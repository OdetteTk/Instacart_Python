{
 "cells": [
  {
   "cell_type": "markdown",
   "id": "39c0dde6",
   "metadata": {},
   "source": [
    "# 4.9 Part 1.2 - Intro to Data Visualisation with Python"
   ]
  },
  {
   "cell_type": "markdown",
   "id": "c25cde36",
   "metadata": {},
   "source": [
    "## Clean & wrangle ords_prods; merge with customers dataframes"
   ]
  },
  {
   "cell_type": "markdown",
   "id": "ec2dd399",
   "metadata": {},
   "source": [
    "### This script contains the following points:\n",
    "\n",
    "#### 1. Import libraries\n",
    "#### 2. Import dataframes\n",
    "#### 3. Data wrangling\n",
    "####      3.1 ords_prods dataframe\n",
    "#### 4. Consistency checks\n",
    "####      4.1 ords_prods dataframe\n",
    "#### 5. Merging the dataframes\n"
   ]
  },
  {
   "cell_type": "markdown",
   "id": "30062168",
   "metadata": {},
   "source": [
    "# Import libraries"
   ]
  },
  {
   "cell_type": "code",
   "execution_count": 1,
   "id": "c8b53ce5",
   "metadata": {},
   "outputs": [],
   "source": [
    "# import libraries\n",
    "\n",
    "import pandas as pd\n",
    "import numpy as np\n",
    "import os"
   ]
  },
  {
   "cell_type": "markdown",
   "id": "05761936",
   "metadata": {},
   "source": [
    "# Import dataframes"
   ]
  },
  {
   "cell_type": "code",
   "execution_count": 2,
   "id": "ae34104e",
   "metadata": {},
   "outputs": [],
   "source": [
    "# project folder path\n",
    "\n",
    "path = r'C:\\Users\\Odette\\Desktop\\CareerFoundry\\Immersion Courses\\Course 4\\Instacart Basket Analysis'"
   ]
  },
  {
   "cell_type": "code",
   "execution_count": 3,
   "id": "3de7cc56",
   "metadata": {},
   "outputs": [],
   "source": [
    "# import of customers data\n",
    "\n",
    "customers = pd.read_csv(os.path.join(path, '02 Data', 'Prepared Data', 'customers_clean.csv'), index_col = False)"
   ]
  },
  {
   "cell_type": "code",
   "execution_count": 4,
   "id": "99467bea",
   "metadata": {},
   "outputs": [],
   "source": [
    "# import of orders_products data\n",
    "\n",
    "ords_prods = pd.read_pickle(os.path.join(path, '02 Data','Prepared Data', 'orders_products.pkl'))"
   ]
  },
  {
   "cell_type": "code",
   "execution_count": 5,
   "id": "95c81e11",
   "metadata": {},
   "outputs": [
    {
     "data": {
      "text/html": [
       "<div>\n",
       "<style scoped>\n",
       "    .dataframe tbody tr th:only-of-type {\n",
       "        vertical-align: middle;\n",
       "    }\n",
       "\n",
       "    .dataframe tbody tr th {\n",
       "        vertical-align: top;\n",
       "    }\n",
       "\n",
       "    .dataframe thead th {\n",
       "        text-align: right;\n",
       "    }\n",
       "</style>\n",
       "<table border=\"1\" class=\"dataframe\">\n",
       "  <thead>\n",
       "    <tr style=\"text-align: right;\">\n",
       "      <th></th>\n",
       "      <th>Unnamed: 0</th>\n",
       "      <th>order_id</th>\n",
       "      <th>user_id</th>\n",
       "      <th>order_number</th>\n",
       "      <th>orders_day_of_week</th>\n",
       "      <th>order_hour_of_day</th>\n",
       "      <th>days_since_last_order</th>\n",
       "      <th>product_id</th>\n",
       "      <th>add_to_cart_order</th>\n",
       "      <th>reordered</th>\n",
       "      <th>...</th>\n",
       "      <th>_merge</th>\n",
       "      <th>price_range_loc</th>\n",
       "      <th>busiest_days</th>\n",
       "      <th>busiest_period_of_day</th>\n",
       "      <th>max_order</th>\n",
       "      <th>loyalty_flag</th>\n",
       "      <th>average_spend</th>\n",
       "      <th>spending_type</th>\n",
       "      <th>median_order_days</th>\n",
       "      <th>order_frequency</th>\n",
       "    </tr>\n",
       "  </thead>\n",
       "  <tbody>\n",
       "    <tr>\n",
       "      <th>0</th>\n",
       "      <td>0</td>\n",
       "      <td>2539329</td>\n",
       "      <td>1</td>\n",
       "      <td>1</td>\n",
       "      <td>2</td>\n",
       "      <td>8</td>\n",
       "      <td>0.0</td>\n",
       "      <td>196</td>\n",
       "      <td>1</td>\n",
       "      <td>0</td>\n",
       "      <td>...</td>\n",
       "      <td>both</td>\n",
       "      <td>Mid-range product</td>\n",
       "      <td>Regularly busy</td>\n",
       "      <td>Average orders</td>\n",
       "      <td>10</td>\n",
       "      <td>New customer</td>\n",
       "      <td>6.367797</td>\n",
       "      <td>Low spender</td>\n",
       "      <td>20.0</td>\n",
       "      <td>Regular customer</td>\n",
       "    </tr>\n",
       "    <tr>\n",
       "      <th>1</th>\n",
       "      <td>1</td>\n",
       "      <td>2398795</td>\n",
       "      <td>1</td>\n",
       "      <td>2</td>\n",
       "      <td>3</td>\n",
       "      <td>7</td>\n",
       "      <td>15.0</td>\n",
       "      <td>196</td>\n",
       "      <td>1</td>\n",
       "      <td>1</td>\n",
       "      <td>...</td>\n",
       "      <td>both</td>\n",
       "      <td>Mid-range product</td>\n",
       "      <td>Least busy</td>\n",
       "      <td>Average orders</td>\n",
       "      <td>10</td>\n",
       "      <td>New customer</td>\n",
       "      <td>6.367797</td>\n",
       "      <td>Low spender</td>\n",
       "      <td>20.0</td>\n",
       "      <td>Regular customer</td>\n",
       "    </tr>\n",
       "    <tr>\n",
       "      <th>2</th>\n",
       "      <td>2</td>\n",
       "      <td>473747</td>\n",
       "      <td>1</td>\n",
       "      <td>3</td>\n",
       "      <td>3</td>\n",
       "      <td>12</td>\n",
       "      <td>21.0</td>\n",
       "      <td>196</td>\n",
       "      <td>1</td>\n",
       "      <td>1</td>\n",
       "      <td>...</td>\n",
       "      <td>both</td>\n",
       "      <td>Mid-range product</td>\n",
       "      <td>Least busy</td>\n",
       "      <td>Most orders</td>\n",
       "      <td>10</td>\n",
       "      <td>New customer</td>\n",
       "      <td>6.367797</td>\n",
       "      <td>Low spender</td>\n",
       "      <td>20.0</td>\n",
       "      <td>Regular customer</td>\n",
       "    </tr>\n",
       "    <tr>\n",
       "      <th>3</th>\n",
       "      <td>3</td>\n",
       "      <td>2254736</td>\n",
       "      <td>1</td>\n",
       "      <td>4</td>\n",
       "      <td>4</td>\n",
       "      <td>7</td>\n",
       "      <td>29.0</td>\n",
       "      <td>196</td>\n",
       "      <td>1</td>\n",
       "      <td>1</td>\n",
       "      <td>...</td>\n",
       "      <td>both</td>\n",
       "      <td>Mid-range product</td>\n",
       "      <td>Least busy</td>\n",
       "      <td>Average orders</td>\n",
       "      <td>10</td>\n",
       "      <td>New customer</td>\n",
       "      <td>6.367797</td>\n",
       "      <td>Low spender</td>\n",
       "      <td>20.0</td>\n",
       "      <td>Regular customer</td>\n",
       "    </tr>\n",
       "    <tr>\n",
       "      <th>4</th>\n",
       "      <td>4</td>\n",
       "      <td>431534</td>\n",
       "      <td>1</td>\n",
       "      <td>5</td>\n",
       "      <td>4</td>\n",
       "      <td>15</td>\n",
       "      <td>28.0</td>\n",
       "      <td>196</td>\n",
       "      <td>1</td>\n",
       "      <td>1</td>\n",
       "      <td>...</td>\n",
       "      <td>both</td>\n",
       "      <td>Mid-range product</td>\n",
       "      <td>Least busy</td>\n",
       "      <td>Most orders</td>\n",
       "      <td>10</td>\n",
       "      <td>New customer</td>\n",
       "      <td>6.367797</td>\n",
       "      <td>Low spender</td>\n",
       "      <td>20.0</td>\n",
       "      <td>Regular customer</td>\n",
       "    </tr>\n",
       "  </tbody>\n",
       "</table>\n",
       "<p>5 rows × 24 columns</p>\n",
       "</div>"
      ],
      "text/plain": [
       "   Unnamed: 0  order_id  user_id  order_number  orders_day_of_week  \\\n",
       "0           0   2539329        1             1                   2   \n",
       "1           1   2398795        1             2                   3   \n",
       "2           2    473747        1             3                   3   \n",
       "3           3   2254736        1             4                   4   \n",
       "4           4    431534        1             5                   4   \n",
       "\n",
       "   order_hour_of_day  days_since_last_order  product_id  add_to_cart_order  \\\n",
       "0                  8                    0.0         196                  1   \n",
       "1                  7                   15.0         196                  1   \n",
       "2                 12                   21.0         196                  1   \n",
       "3                  7                   29.0         196                  1   \n",
       "4                 15                   28.0         196                  1   \n",
       "\n",
       "   reordered  ... _merge    price_range_loc    busiest_days  \\\n",
       "0          0  ...   both  Mid-range product  Regularly busy   \n",
       "1          1  ...   both  Mid-range product      Least busy   \n",
       "2          1  ...   both  Mid-range product      Least busy   \n",
       "3          1  ...   both  Mid-range product      Least busy   \n",
       "4          1  ...   both  Mid-range product      Least busy   \n",
       "\n",
       "   busiest_period_of_day max_order  loyalty_flag average_spend spending_type  \\\n",
       "0         Average orders        10  New customer      6.367797   Low spender   \n",
       "1         Average orders        10  New customer      6.367797   Low spender   \n",
       "2            Most orders        10  New customer      6.367797   Low spender   \n",
       "3         Average orders        10  New customer      6.367797   Low spender   \n",
       "4            Most orders        10  New customer      6.367797   Low spender   \n",
       "\n",
       "   median_order_days   order_frequency  \n",
       "0               20.0  Regular customer  \n",
       "1               20.0  Regular customer  \n",
       "2               20.0  Regular customer  \n",
       "3               20.0  Regular customer  \n",
       "4               20.0  Regular customer  \n",
       "\n",
       "[5 rows x 24 columns]"
      ]
     },
     "execution_count": 5,
     "metadata": {},
     "output_type": "execute_result"
    }
   ],
   "source": [
    "ords_prods.head()"
   ]
  },
  {
   "cell_type": "code",
   "execution_count": 6,
   "id": "6c02e12a",
   "metadata": {},
   "outputs": [
    {
     "data": {
      "text/plain": [
       "(32404859, 24)"
      ]
     },
     "execution_count": 6,
     "metadata": {},
     "output_type": "execute_result"
    }
   ],
   "source": [
    "ords_prods.shape"
   ]
  },
  {
   "cell_type": "markdown",
   "id": "a5981e5d",
   "metadata": {},
   "source": [
    "# Data Wrangling"
   ]
  },
  {
   "cell_type": "markdown",
   "id": "4254fecf",
   "metadata": {},
   "source": [
    "## ords_prods dataframe"
   ]
  },
  {
   "cell_type": "code",
   "execution_count": 7,
   "id": "a615575c",
   "metadata": {},
   "outputs": [],
   "source": [
    "# dropping Unnamed: 0 column\n",
    "\n",
    "ords_prods = ords_prods.drop(columns = ['Unnamed: 0', '_merge'])"
   ]
  },
  {
   "cell_type": "code",
   "execution_count": 8,
   "id": "e971cea5",
   "metadata": {},
   "outputs": [
    {
     "data": {
      "text/html": [
       "<div>\n",
       "<style scoped>\n",
       "    .dataframe tbody tr th:only-of-type {\n",
       "        vertical-align: middle;\n",
       "    }\n",
       "\n",
       "    .dataframe tbody tr th {\n",
       "        vertical-align: top;\n",
       "    }\n",
       "\n",
       "    .dataframe thead th {\n",
       "        text-align: right;\n",
       "    }\n",
       "</style>\n",
       "<table border=\"1\" class=\"dataframe\">\n",
       "  <thead>\n",
       "    <tr style=\"text-align: right;\">\n",
       "      <th></th>\n",
       "      <th>order_id</th>\n",
       "      <th>user_id</th>\n",
       "      <th>order_number</th>\n",
       "      <th>orders_day_of_week</th>\n",
       "      <th>order_hour_of_day</th>\n",
       "      <th>days_since_last_order</th>\n",
       "      <th>product_id</th>\n",
       "      <th>add_to_cart_order</th>\n",
       "      <th>reordered</th>\n",
       "      <th>product_name</th>\n",
       "      <th>...</th>\n",
       "      <th>prices</th>\n",
       "      <th>price_range_loc</th>\n",
       "      <th>busiest_days</th>\n",
       "      <th>busiest_period_of_day</th>\n",
       "      <th>max_order</th>\n",
       "      <th>loyalty_flag</th>\n",
       "      <th>average_spend</th>\n",
       "      <th>spending_type</th>\n",
       "      <th>median_order_days</th>\n",
       "      <th>order_frequency</th>\n",
       "    </tr>\n",
       "  </thead>\n",
       "  <tbody>\n",
       "    <tr>\n",
       "      <th>0</th>\n",
       "      <td>2539329</td>\n",
       "      <td>1</td>\n",
       "      <td>1</td>\n",
       "      <td>2</td>\n",
       "      <td>8</td>\n",
       "      <td>0.0</td>\n",
       "      <td>196</td>\n",
       "      <td>1</td>\n",
       "      <td>0</td>\n",
       "      <td>Soda</td>\n",
       "      <td>...</td>\n",
       "      <td>9.0</td>\n",
       "      <td>Mid-range product</td>\n",
       "      <td>Regularly busy</td>\n",
       "      <td>Average orders</td>\n",
       "      <td>10</td>\n",
       "      <td>New customer</td>\n",
       "      <td>6.367797</td>\n",
       "      <td>Low spender</td>\n",
       "      <td>20.0</td>\n",
       "      <td>Regular customer</td>\n",
       "    </tr>\n",
       "    <tr>\n",
       "      <th>1</th>\n",
       "      <td>2398795</td>\n",
       "      <td>1</td>\n",
       "      <td>2</td>\n",
       "      <td>3</td>\n",
       "      <td>7</td>\n",
       "      <td>15.0</td>\n",
       "      <td>196</td>\n",
       "      <td>1</td>\n",
       "      <td>1</td>\n",
       "      <td>Soda</td>\n",
       "      <td>...</td>\n",
       "      <td>9.0</td>\n",
       "      <td>Mid-range product</td>\n",
       "      <td>Least busy</td>\n",
       "      <td>Average orders</td>\n",
       "      <td>10</td>\n",
       "      <td>New customer</td>\n",
       "      <td>6.367797</td>\n",
       "      <td>Low spender</td>\n",
       "      <td>20.0</td>\n",
       "      <td>Regular customer</td>\n",
       "    </tr>\n",
       "    <tr>\n",
       "      <th>2</th>\n",
       "      <td>473747</td>\n",
       "      <td>1</td>\n",
       "      <td>3</td>\n",
       "      <td>3</td>\n",
       "      <td>12</td>\n",
       "      <td>21.0</td>\n",
       "      <td>196</td>\n",
       "      <td>1</td>\n",
       "      <td>1</td>\n",
       "      <td>Soda</td>\n",
       "      <td>...</td>\n",
       "      <td>9.0</td>\n",
       "      <td>Mid-range product</td>\n",
       "      <td>Least busy</td>\n",
       "      <td>Most orders</td>\n",
       "      <td>10</td>\n",
       "      <td>New customer</td>\n",
       "      <td>6.367797</td>\n",
       "      <td>Low spender</td>\n",
       "      <td>20.0</td>\n",
       "      <td>Regular customer</td>\n",
       "    </tr>\n",
       "    <tr>\n",
       "      <th>3</th>\n",
       "      <td>2254736</td>\n",
       "      <td>1</td>\n",
       "      <td>4</td>\n",
       "      <td>4</td>\n",
       "      <td>7</td>\n",
       "      <td>29.0</td>\n",
       "      <td>196</td>\n",
       "      <td>1</td>\n",
       "      <td>1</td>\n",
       "      <td>Soda</td>\n",
       "      <td>...</td>\n",
       "      <td>9.0</td>\n",
       "      <td>Mid-range product</td>\n",
       "      <td>Least busy</td>\n",
       "      <td>Average orders</td>\n",
       "      <td>10</td>\n",
       "      <td>New customer</td>\n",
       "      <td>6.367797</td>\n",
       "      <td>Low spender</td>\n",
       "      <td>20.0</td>\n",
       "      <td>Regular customer</td>\n",
       "    </tr>\n",
       "    <tr>\n",
       "      <th>4</th>\n",
       "      <td>431534</td>\n",
       "      <td>1</td>\n",
       "      <td>5</td>\n",
       "      <td>4</td>\n",
       "      <td>15</td>\n",
       "      <td>28.0</td>\n",
       "      <td>196</td>\n",
       "      <td>1</td>\n",
       "      <td>1</td>\n",
       "      <td>Soda</td>\n",
       "      <td>...</td>\n",
       "      <td>9.0</td>\n",
       "      <td>Mid-range product</td>\n",
       "      <td>Least busy</td>\n",
       "      <td>Most orders</td>\n",
       "      <td>10</td>\n",
       "      <td>New customer</td>\n",
       "      <td>6.367797</td>\n",
       "      <td>Low spender</td>\n",
       "      <td>20.0</td>\n",
       "      <td>Regular customer</td>\n",
       "    </tr>\n",
       "  </tbody>\n",
       "</table>\n",
       "<p>5 rows × 22 columns</p>\n",
       "</div>"
      ],
      "text/plain": [
       "   order_id  user_id  order_number  orders_day_of_week  order_hour_of_day  \\\n",
       "0   2539329        1             1                   2                  8   \n",
       "1   2398795        1             2                   3                  7   \n",
       "2    473747        1             3                   3                 12   \n",
       "3   2254736        1             4                   4                  7   \n",
       "4    431534        1             5                   4                 15   \n",
       "\n",
       "   days_since_last_order  product_id  add_to_cart_order  reordered  \\\n",
       "0                    0.0         196                  1          0   \n",
       "1                   15.0         196                  1          1   \n",
       "2                   21.0         196                  1          1   \n",
       "3                   29.0         196                  1          1   \n",
       "4                   28.0         196                  1          1   \n",
       "\n",
       "  product_name  ...  prices    price_range_loc    busiest_days  \\\n",
       "0         Soda  ...     9.0  Mid-range product  Regularly busy   \n",
       "1         Soda  ...     9.0  Mid-range product      Least busy   \n",
       "2         Soda  ...     9.0  Mid-range product      Least busy   \n",
       "3         Soda  ...     9.0  Mid-range product      Least busy   \n",
       "4         Soda  ...     9.0  Mid-range product      Least busy   \n",
       "\n",
       "  busiest_period_of_day max_order  loyalty_flag  average_spend spending_type  \\\n",
       "0        Average orders        10  New customer       6.367797   Low spender   \n",
       "1        Average orders        10  New customer       6.367797   Low spender   \n",
       "2           Most orders        10  New customer       6.367797   Low spender   \n",
       "3        Average orders        10  New customer       6.367797   Low spender   \n",
       "4           Most orders        10  New customer       6.367797   Low spender   \n",
       "\n",
       "   median_order_days   order_frequency  \n",
       "0               20.0  Regular customer  \n",
       "1               20.0  Regular customer  \n",
       "2               20.0  Regular customer  \n",
       "3               20.0  Regular customer  \n",
       "4               20.0  Regular customer  \n",
       "\n",
       "[5 rows x 22 columns]"
      ]
     },
     "execution_count": 8,
     "metadata": {},
     "output_type": "execute_result"
    }
   ],
   "source": [
    "ords_prods.head()"
   ]
  },
  {
   "cell_type": "markdown",
   "id": "2e71b112",
   "metadata": {},
   "source": [
    "# Consistency checks"
   ]
  },
  {
   "cell_type": "markdown",
   "id": "62be0792",
   "metadata": {},
   "source": [
    "## ords_prods dataframe"
   ]
  },
  {
   "cell_type": "code",
   "execution_count": 9,
   "id": "ed752a9d",
   "metadata": {},
   "outputs": [
    {
     "data": {
      "text/plain": [
       "order_id                   int64\n",
       "user_id                    int64\n",
       "order_number               int64\n",
       "orders_day_of_week         int64\n",
       "order_hour_of_day          int64\n",
       "days_since_last_order    float64\n",
       "product_id                 int64\n",
       "add_to_cart_order          int64\n",
       "reordered                  int64\n",
       "product_name              object\n",
       "aisle_id                   int64\n",
       "department_id              int64\n",
       "prices                   float64\n",
       "price_range_loc           object\n",
       "busiest_days              object\n",
       "busiest_period_of_day     object\n",
       "max_order                  int64\n",
       "loyalty_flag              object\n",
       "average_spend            float64\n",
       "spending_type             object\n",
       "median_order_days        float64\n",
       "order_frequency           object\n",
       "dtype: object"
      ]
     },
     "execution_count": 9,
     "metadata": {},
     "output_type": "execute_result"
    }
   ],
   "source": [
    "ords_prods.dtypes"
   ]
  },
  {
   "cell_type": "code",
   "execution_count": 10,
   "id": "3dc827c4",
   "metadata": {},
   "outputs": [],
   "source": [
    "# convert the days_since_last_order, orders_day_of_week, order_number & order_hour_of_day columns to int8\n",
    "\n",
    "ords_prods[['days_since_last_order', 'orders_day_of_week', 'order_number', 'order_hour_of_day', 'max_order']] = ords_prods[['days_since_last_order', 'orders_day_of_week', 'order_number', 'order_hour_of_day', 'max_order']].astype('int8')"
   ]
  },
  {
   "cell_type": "code",
   "execution_count": 11,
   "id": "efa2ff37",
   "metadata": {
    "scrolled": true
   },
   "outputs": [],
   "source": [
    "# convert the user_id, product_id, aisle_id, department_id & order_id column to category format\n",
    "\n",
    "ords_prods[['user_id', 'product_id', 'aisle_id', 'department_id', 'order_id']] = ords_prods[['user_id', 'product_id', 'aisle_id', 'department_id', 'order_id']].astype('category')"
   ]
  },
  {
   "cell_type": "code",
   "execution_count": 12,
   "id": "93469818",
   "metadata": {
    "scrolled": true
   },
   "outputs": [],
   "source": [
    "# convert the median_order_days, prices & average_spend columns to float16\n",
    "\n",
    "ords_prods[['median_order_days', 'prices', 'average_spend']] = ords_prods[['median_order_days', 'prices', 'average_spend']].astype('float16')"
   ]
  },
  {
   "cell_type": "code",
   "execution_count": 13,
   "id": "12d58afe",
   "metadata": {
    "scrolled": true
   },
   "outputs": [],
   "source": [
    "# convert the price_range_loc, loyalty_flag, order_frequency, busiest_days & busiest_period_of_day columns to category\n",
    "\n",
    "ords_prods[['price_range_loc', 'loyalty_flag', 'order_frequency', 'busiest_days','busiest_period_of_day']] = ords_prods[['price_range_loc', 'loyalty_flag', 'order_frequency', 'busiest_days', 'busiest_period_of_day']].astype('category')"
   ]
  },
  {
   "cell_type": "code",
   "execution_count": 14,
   "id": "d8df46d7",
   "metadata": {},
   "outputs": [],
   "source": [
    "# convert the reordered column to bool format\n",
    "\n",
    "ords_prods['reordered'] = ords_prods['reordered'].astype('bool')"
   ]
  },
  {
   "cell_type": "code",
   "execution_count": 15,
   "id": "854b261d",
   "metadata": {},
   "outputs": [],
   "source": [
    "# convert the add_to_cart_order column to int16 format\n",
    "\n",
    "ords_prods['add_to_cart_order'] = ords_prods['add_to_cart_order'].astype('int16')"
   ]
  },
  {
   "cell_type": "code",
   "execution_count": 16,
   "id": "1513ced9",
   "metadata": {},
   "outputs": [
    {
     "data": {
      "text/plain": [
       "order_id                 category\n",
       "user_id                  category\n",
       "order_number                 int8\n",
       "orders_day_of_week           int8\n",
       "order_hour_of_day            int8\n",
       "days_since_last_order        int8\n",
       "product_id               category\n",
       "add_to_cart_order           int16\n",
       "reordered                    bool\n",
       "product_name               object\n",
       "aisle_id                 category\n",
       "department_id            category\n",
       "prices                    float16\n",
       "price_range_loc          category\n",
       "busiest_days             category\n",
       "busiest_period_of_day    category\n",
       "max_order                    int8\n",
       "loyalty_flag             category\n",
       "average_spend             float16\n",
       "spending_type              object\n",
       "median_order_days         float16\n",
       "order_frequency          category\n",
       "dtype: object"
      ]
     },
     "execution_count": 16,
     "metadata": {},
     "output_type": "execute_result"
    }
   ],
   "source": [
    "ords_prods.dtypes"
   ]
  },
  {
   "cell_type": "code",
   "execution_count": 17,
   "id": "0b61dfdc",
   "metadata": {},
   "outputs": [],
   "source": [
    "# mark values over $100 in prices as missing (NaN) as they don't make sense in relation to every other price\n",
    "\n",
    "ords_prods.loc[ords_prods['prices'] >100, 'prices'] = np.nan"
   ]
  },
  {
   "cell_type": "code",
   "execution_count": 18,
   "id": "ef184312",
   "metadata": {},
   "outputs": [
    {
     "data": {
      "text/plain": [
       "25.0"
      ]
     },
     "execution_count": 18,
     "metadata": {},
     "output_type": "execute_result"
    }
   ],
   "source": [
    "# check it worked by running a max value check\n",
    "\n",
    "ords_prods['prices'].max()"
   ]
  },
  {
   "cell_type": "markdown",
   "id": "28848d52",
   "metadata": {},
   "source": [
    "## customers dataframe"
   ]
  },
  {
   "cell_type": "code",
   "execution_count": 19,
   "id": "fa2e6786",
   "metadata": {},
   "outputs": [
    {
     "data": {
      "text/plain": [
       "user_id          int64\n",
       "gender          object\n",
       "state           object\n",
       "age              int64\n",
       "date_joined     object\n",
       "n_dependants     int64\n",
       "fam_status      object\n",
       "income           int64\n",
       "dtype: object"
      ]
     },
     "execution_count": 19,
     "metadata": {},
     "output_type": "execute_result"
    }
   ],
   "source": [
    "customers.dtypes"
   ]
  },
  {
   "cell_type": "code",
   "execution_count": 20,
   "id": "8fd88d4f",
   "metadata": {},
   "outputs": [],
   "source": [
    "# convert the user_id column to string/object format\n",
    "\n",
    "customers['user_id'] = customers['user_id'].astype('category')"
   ]
  },
  {
   "cell_type": "code",
   "execution_count": 21,
   "id": "8b287b9e",
   "metadata": {},
   "outputs": [],
   "source": [
    "# convert the date_joined column to datetime format\n",
    "\n",
    "customers['date_joined'] = customers['date_joined'].astype('datetime64[s]')"
   ]
  },
  {
   "cell_type": "code",
   "execution_count": 22,
   "id": "512e58dc",
   "metadata": {},
   "outputs": [
    {
     "data": {
      "text/plain": [
       "user_id               category\n",
       "gender                  object\n",
       "state                   object\n",
       "age                      int64\n",
       "date_joined     datetime64[ns]\n",
       "n_dependants             int64\n",
       "fam_status              object\n",
       "income                   int64\n",
       "dtype: object"
      ]
     },
     "execution_count": 22,
     "metadata": {},
     "output_type": "execute_result"
    }
   ],
   "source": [
    "# check data types of all columns\n",
    "\n",
    "customers.dtypes"
   ]
  },
  {
   "cell_type": "markdown",
   "id": "c7b17235",
   "metadata": {},
   "source": [
    "# Merging the dataframes"
   ]
  },
  {
   "cell_type": "code",
   "execution_count": 23,
   "id": "1f568747",
   "metadata": {
    "scrolled": true
   },
   "outputs": [],
   "source": [
    "# merge\n",
    "\n",
    "df_merged = ords_prods.merge(customers, on = 'user_id', indicator = True)"
   ]
  },
  {
   "cell_type": "code",
   "execution_count": 24,
   "id": "f69c61cb",
   "metadata": {},
   "outputs": [
    {
     "data": {
      "text/html": [
       "<div>\n",
       "<style scoped>\n",
       "    .dataframe tbody tr th:only-of-type {\n",
       "        vertical-align: middle;\n",
       "    }\n",
       "\n",
       "    .dataframe tbody tr th {\n",
       "        vertical-align: top;\n",
       "    }\n",
       "\n",
       "    .dataframe thead th {\n",
       "        text-align: right;\n",
       "    }\n",
       "</style>\n",
       "<table border=\"1\" class=\"dataframe\">\n",
       "  <thead>\n",
       "    <tr style=\"text-align: right;\">\n",
       "      <th></th>\n",
       "      <th>order_id</th>\n",
       "      <th>user_id</th>\n",
       "      <th>order_number</th>\n",
       "      <th>orders_day_of_week</th>\n",
       "      <th>order_hour_of_day</th>\n",
       "      <th>days_since_last_order</th>\n",
       "      <th>product_id</th>\n",
       "      <th>add_to_cart_order</th>\n",
       "      <th>reordered</th>\n",
       "      <th>product_name</th>\n",
       "      <th>...</th>\n",
       "      <th>median_order_days</th>\n",
       "      <th>order_frequency</th>\n",
       "      <th>gender</th>\n",
       "      <th>state</th>\n",
       "      <th>age</th>\n",
       "      <th>date_joined</th>\n",
       "      <th>n_dependants</th>\n",
       "      <th>fam_status</th>\n",
       "      <th>income</th>\n",
       "      <th>_merge</th>\n",
       "    </tr>\n",
       "  </thead>\n",
       "  <tbody>\n",
       "    <tr>\n",
       "      <th>0</th>\n",
       "      <td>2539329</td>\n",
       "      <td>1</td>\n",
       "      <td>1</td>\n",
       "      <td>2</td>\n",
       "      <td>8</td>\n",
       "      <td>0</td>\n",
       "      <td>196</td>\n",
       "      <td>1</td>\n",
       "      <td>False</td>\n",
       "      <td>Soda</td>\n",
       "      <td>...</td>\n",
       "      <td>20.0</td>\n",
       "      <td>Regular customer</td>\n",
       "      <td>Female</td>\n",
       "      <td>Alabama</td>\n",
       "      <td>31</td>\n",
       "      <td>2019-02-17</td>\n",
       "      <td>3</td>\n",
       "      <td>married</td>\n",
       "      <td>40423</td>\n",
       "      <td>both</td>\n",
       "    </tr>\n",
       "    <tr>\n",
       "      <th>1</th>\n",
       "      <td>2398795</td>\n",
       "      <td>1</td>\n",
       "      <td>2</td>\n",
       "      <td>3</td>\n",
       "      <td>7</td>\n",
       "      <td>15</td>\n",
       "      <td>196</td>\n",
       "      <td>1</td>\n",
       "      <td>True</td>\n",
       "      <td>Soda</td>\n",
       "      <td>...</td>\n",
       "      <td>20.0</td>\n",
       "      <td>Regular customer</td>\n",
       "      <td>Female</td>\n",
       "      <td>Alabama</td>\n",
       "      <td>31</td>\n",
       "      <td>2019-02-17</td>\n",
       "      <td>3</td>\n",
       "      <td>married</td>\n",
       "      <td>40423</td>\n",
       "      <td>both</td>\n",
       "    </tr>\n",
       "    <tr>\n",
       "      <th>2</th>\n",
       "      <td>473747</td>\n",
       "      <td>1</td>\n",
       "      <td>3</td>\n",
       "      <td>3</td>\n",
       "      <td>12</td>\n",
       "      <td>21</td>\n",
       "      <td>196</td>\n",
       "      <td>1</td>\n",
       "      <td>True</td>\n",
       "      <td>Soda</td>\n",
       "      <td>...</td>\n",
       "      <td>20.0</td>\n",
       "      <td>Regular customer</td>\n",
       "      <td>Female</td>\n",
       "      <td>Alabama</td>\n",
       "      <td>31</td>\n",
       "      <td>2019-02-17</td>\n",
       "      <td>3</td>\n",
       "      <td>married</td>\n",
       "      <td>40423</td>\n",
       "      <td>both</td>\n",
       "    </tr>\n",
       "    <tr>\n",
       "      <th>3</th>\n",
       "      <td>2254736</td>\n",
       "      <td>1</td>\n",
       "      <td>4</td>\n",
       "      <td>4</td>\n",
       "      <td>7</td>\n",
       "      <td>29</td>\n",
       "      <td>196</td>\n",
       "      <td>1</td>\n",
       "      <td>True</td>\n",
       "      <td>Soda</td>\n",
       "      <td>...</td>\n",
       "      <td>20.0</td>\n",
       "      <td>Regular customer</td>\n",
       "      <td>Female</td>\n",
       "      <td>Alabama</td>\n",
       "      <td>31</td>\n",
       "      <td>2019-02-17</td>\n",
       "      <td>3</td>\n",
       "      <td>married</td>\n",
       "      <td>40423</td>\n",
       "      <td>both</td>\n",
       "    </tr>\n",
       "    <tr>\n",
       "      <th>4</th>\n",
       "      <td>431534</td>\n",
       "      <td>1</td>\n",
       "      <td>5</td>\n",
       "      <td>4</td>\n",
       "      <td>15</td>\n",
       "      <td>28</td>\n",
       "      <td>196</td>\n",
       "      <td>1</td>\n",
       "      <td>True</td>\n",
       "      <td>Soda</td>\n",
       "      <td>...</td>\n",
       "      <td>20.0</td>\n",
       "      <td>Regular customer</td>\n",
       "      <td>Female</td>\n",
       "      <td>Alabama</td>\n",
       "      <td>31</td>\n",
       "      <td>2019-02-17</td>\n",
       "      <td>3</td>\n",
       "      <td>married</td>\n",
       "      <td>40423</td>\n",
       "      <td>both</td>\n",
       "    </tr>\n",
       "  </tbody>\n",
       "</table>\n",
       "<p>5 rows × 30 columns</p>\n",
       "</div>"
      ],
      "text/plain": [
       "  order_id user_id  order_number  orders_day_of_week  order_hour_of_day  \\\n",
       "0  2539329       1             1                   2                  8   \n",
       "1  2398795       1             2                   3                  7   \n",
       "2   473747       1             3                   3                 12   \n",
       "3  2254736       1             4                   4                  7   \n",
       "4   431534       1             5                   4                 15   \n",
       "\n",
       "   days_since_last_order product_id  add_to_cart_order  reordered  \\\n",
       "0                      0        196                  1      False   \n",
       "1                     15        196                  1       True   \n",
       "2                     21        196                  1       True   \n",
       "3                     29        196                  1       True   \n",
       "4                     28        196                  1       True   \n",
       "\n",
       "  product_name  ... median_order_days   order_frequency  gender    state age  \\\n",
       "0         Soda  ...              20.0  Regular customer  Female  Alabama  31   \n",
       "1         Soda  ...              20.0  Regular customer  Female  Alabama  31   \n",
       "2         Soda  ...              20.0  Regular customer  Female  Alabama  31   \n",
       "3         Soda  ...              20.0  Regular customer  Female  Alabama  31   \n",
       "4         Soda  ...              20.0  Regular customer  Female  Alabama  31   \n",
       "\n",
       "  date_joined  n_dependants fam_status  income _merge  \n",
       "0  2019-02-17             3    married   40423   both  \n",
       "1  2019-02-17             3    married   40423   both  \n",
       "2  2019-02-17             3    married   40423   both  \n",
       "3  2019-02-17             3    married   40423   both  \n",
       "4  2019-02-17             3    married   40423   both  \n",
       "\n",
       "[5 rows x 30 columns]"
      ]
     },
     "execution_count": 24,
     "metadata": {},
     "output_type": "execute_result"
    }
   ],
   "source": [
    "df_merged.head()"
   ]
  },
  {
   "cell_type": "code",
   "execution_count": 25,
   "id": "264480bb",
   "metadata": {},
   "outputs": [],
   "source": [
    "# export data to pkl \n",
    " \n",
    "df_merged.to_pickle(os.path.join(path, '02 Data','Prepared Data', 'orders_products_final.pkl'))"
   ]
  }
 ],
 "metadata": {
  "kernelspec": {
   "display_name": "Python 3",
   "language": "python",
   "name": "python3"
  },
  "language_info": {
   "codemirror_mode": {
    "name": "ipython",
    "version": 3
   },
   "file_extension": ".py",
   "mimetype": "text/x-python",
   "name": "python",
   "nbconvert_exporter": "python",
   "pygments_lexer": "ipython3",
   "version": "3.8.8"
  }
 },
 "nbformat": 4,
 "nbformat_minor": 5
}
