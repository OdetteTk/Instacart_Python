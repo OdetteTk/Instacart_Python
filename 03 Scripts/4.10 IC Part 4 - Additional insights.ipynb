{
 "cells": [
  {
   "cell_type": "markdown",
   "id": "c049c78d",
   "metadata": {},
   "source": [
    "# 4.10 Part 4 - Additional insights"
   ]
  },
  {
   "cell_type": "markdown",
   "id": "c1acfb4f",
   "metadata": {},
   "source": [
    "### This script contains the following points:\n",
    "\n",
    "#### 1. Import libraries\n",
    "#### 2. Import data\n",
    "#### 3. Additional insights\n",
    "##### 3.1 Family status crossed with loyalty flag\n",
    "##### 3.2 Order frequency by dept\n",
    "##### 3.3 Price range comparison\n",
    "##### 3.4 Ordering habits by loyalty"
   ]
  },
  {
   "cell_type": "markdown",
   "id": "99ae6e85",
   "metadata": {},
   "source": [
    "# Import libraries"
   ]
  },
  {
   "cell_type": "code",
   "execution_count": 1,
   "id": "b8fbfc92",
   "metadata": {},
   "outputs": [],
   "source": [
    "import pandas as pd\n",
    "import numpy as np\n",
    "import os\n",
    "import matplotlib.pyplot as plt\n",
    "import seaborn as sns\n",
    "import scipy"
   ]
  },
  {
   "cell_type": "markdown",
   "id": "dcfe0784",
   "metadata": {},
   "source": [
    "# Import data"
   ]
  },
  {
   "cell_type": "code",
   "execution_count": 2,
   "id": "6b627b32",
   "metadata": {},
   "outputs": [],
   "source": [
    "# project folder path\n",
    "\n",
    "path = r'C:\\Users\\Odette\\Desktop\\CareerFoundry\\Immersion Courses\\Course 4\\Instacart Basket Analysis'"
   ]
  },
  {
   "cell_type": "code",
   "execution_count": 3,
   "id": "1c357f61",
   "metadata": {},
   "outputs": [],
   "source": [
    "# import of orders_products data\n",
    "\n",
    "final_df = pd.read_pickle(os.path.join(path, '02 Data','Prepared Data', 'Instacart_final2.pkl'))"
   ]
  },
  {
   "cell_type": "code",
   "execution_count": 4,
   "id": "b7a9db7c",
   "metadata": {},
   "outputs": [
    {
     "data": {
      "text/html": [
       "<div>\n",
       "<style scoped>\n",
       "    .dataframe tbody tr th:only-of-type {\n",
       "        vertical-align: middle;\n",
       "    }\n",
       "\n",
       "    .dataframe tbody tr th {\n",
       "        vertical-align: top;\n",
       "    }\n",
       "\n",
       "    .dataframe thead th {\n",
       "        text-align: right;\n",
       "    }\n",
       "</style>\n",
       "<table border=\"1\" class=\"dataframe\">\n",
       "  <thead>\n",
       "    <tr style=\"text-align: right;\">\n",
       "      <th></th>\n",
       "      <th>order_id</th>\n",
       "      <th>user_id</th>\n",
       "      <th>order_number</th>\n",
       "      <th>orders_day_of_week</th>\n",
       "      <th>order_hour_of_day</th>\n",
       "      <th>days_since_last_order</th>\n",
       "      <th>product_id</th>\n",
       "      <th>add_to_cart_order</th>\n",
       "      <th>reordered</th>\n",
       "      <th>product_name</th>\n",
       "      <th>...</th>\n",
       "      <th>date_joined</th>\n",
       "      <th>n_dependants</th>\n",
       "      <th>fam_status</th>\n",
       "      <th>income</th>\n",
       "      <th>_merge</th>\n",
       "      <th>region</th>\n",
       "      <th>exclusion_flag</th>\n",
       "      <th>age_range</th>\n",
       "      <th>income_bracket</th>\n",
       "      <th>parental_status</th>\n",
       "    </tr>\n",
       "  </thead>\n",
       "  <tbody>\n",
       "    <tr>\n",
       "      <th>0</th>\n",
       "      <td>2539329</td>\n",
       "      <td>1</td>\n",
       "      <td>1</td>\n",
       "      <td>2</td>\n",
       "      <td>8</td>\n",
       "      <td>0</td>\n",
       "      <td>196</td>\n",
       "      <td>1</td>\n",
       "      <td>False</td>\n",
       "      <td>Soda</td>\n",
       "      <td>...</td>\n",
       "      <td>2019-02-17</td>\n",
       "      <td>3</td>\n",
       "      <td>married</td>\n",
       "      <td>40423</td>\n",
       "      <td>both</td>\n",
       "      <td>South</td>\n",
       "      <td>Frequent Customer</td>\n",
       "      <td>30-39</td>\n",
       "      <td>&lt;100000</td>\n",
       "      <td>Parent</td>\n",
       "    </tr>\n",
       "    <tr>\n",
       "      <th>1</th>\n",
       "      <td>2398795</td>\n",
       "      <td>1</td>\n",
       "      <td>2</td>\n",
       "      <td>3</td>\n",
       "      <td>7</td>\n",
       "      <td>15</td>\n",
       "      <td>196</td>\n",
       "      <td>1</td>\n",
       "      <td>True</td>\n",
       "      <td>Soda</td>\n",
       "      <td>...</td>\n",
       "      <td>2019-02-17</td>\n",
       "      <td>3</td>\n",
       "      <td>married</td>\n",
       "      <td>40423</td>\n",
       "      <td>both</td>\n",
       "      <td>South</td>\n",
       "      <td>Frequent Customer</td>\n",
       "      <td>30-39</td>\n",
       "      <td>&lt;100000</td>\n",
       "      <td>Parent</td>\n",
       "    </tr>\n",
       "    <tr>\n",
       "      <th>2</th>\n",
       "      <td>473747</td>\n",
       "      <td>1</td>\n",
       "      <td>3</td>\n",
       "      <td>3</td>\n",
       "      <td>12</td>\n",
       "      <td>21</td>\n",
       "      <td>196</td>\n",
       "      <td>1</td>\n",
       "      <td>True</td>\n",
       "      <td>Soda</td>\n",
       "      <td>...</td>\n",
       "      <td>2019-02-17</td>\n",
       "      <td>3</td>\n",
       "      <td>married</td>\n",
       "      <td>40423</td>\n",
       "      <td>both</td>\n",
       "      <td>South</td>\n",
       "      <td>Frequent Customer</td>\n",
       "      <td>30-39</td>\n",
       "      <td>&lt;100000</td>\n",
       "      <td>Parent</td>\n",
       "    </tr>\n",
       "    <tr>\n",
       "      <th>3</th>\n",
       "      <td>2254736</td>\n",
       "      <td>1</td>\n",
       "      <td>4</td>\n",
       "      <td>4</td>\n",
       "      <td>7</td>\n",
       "      <td>29</td>\n",
       "      <td>196</td>\n",
       "      <td>1</td>\n",
       "      <td>True</td>\n",
       "      <td>Soda</td>\n",
       "      <td>...</td>\n",
       "      <td>2019-02-17</td>\n",
       "      <td>3</td>\n",
       "      <td>married</td>\n",
       "      <td>40423</td>\n",
       "      <td>both</td>\n",
       "      <td>South</td>\n",
       "      <td>Frequent Customer</td>\n",
       "      <td>30-39</td>\n",
       "      <td>&lt;100000</td>\n",
       "      <td>Parent</td>\n",
       "    </tr>\n",
       "    <tr>\n",
       "      <th>4</th>\n",
       "      <td>431534</td>\n",
       "      <td>1</td>\n",
       "      <td>5</td>\n",
       "      <td>4</td>\n",
       "      <td>15</td>\n",
       "      <td>28</td>\n",
       "      <td>196</td>\n",
       "      <td>1</td>\n",
       "      <td>True</td>\n",
       "      <td>Soda</td>\n",
       "      <td>...</td>\n",
       "      <td>2019-02-17</td>\n",
       "      <td>3</td>\n",
       "      <td>married</td>\n",
       "      <td>40423</td>\n",
       "      <td>both</td>\n",
       "      <td>South</td>\n",
       "      <td>Frequent Customer</td>\n",
       "      <td>30-39</td>\n",
       "      <td>&lt;100000</td>\n",
       "      <td>Parent</td>\n",
       "    </tr>\n",
       "  </tbody>\n",
       "</table>\n",
       "<p>5 rows × 35 columns</p>\n",
       "</div>"
      ],
      "text/plain": [
       "  order_id user_id  order_number  orders_day_of_week  order_hour_of_day  \\\n",
       "0  2539329       1             1                   2                  8   \n",
       "1  2398795       1             2                   3                  7   \n",
       "2   473747       1             3                   3                 12   \n",
       "3  2254736       1             4                   4                  7   \n",
       "4   431534       1             5                   4                 15   \n",
       "\n",
       "   days_since_last_order product_id  add_to_cart_order  reordered  \\\n",
       "0                      0        196                  1      False   \n",
       "1                     15        196                  1       True   \n",
       "2                     21        196                  1       True   \n",
       "3                     29        196                  1       True   \n",
       "4                     28        196                  1       True   \n",
       "\n",
       "  product_name  ... date_joined n_dependants  fam_status income _merge region  \\\n",
       "0         Soda  ...  2019-02-17            3     married  40423   both  South   \n",
       "1         Soda  ...  2019-02-17            3     married  40423   both  South   \n",
       "2         Soda  ...  2019-02-17            3     married  40423   both  South   \n",
       "3         Soda  ...  2019-02-17            3     married  40423   both  South   \n",
       "4         Soda  ...  2019-02-17            3     married  40423   both  South   \n",
       "\n",
       "      exclusion_flag age_range  income_bracket parental_status  \n",
       "0  Frequent Customer     30-39         <100000          Parent  \n",
       "1  Frequent Customer     30-39         <100000          Parent  \n",
       "2  Frequent Customer     30-39         <100000          Parent  \n",
       "3  Frequent Customer     30-39         <100000          Parent  \n",
       "4  Frequent Customer     30-39         <100000          Parent  \n",
       "\n",
       "[5 rows x 35 columns]"
      ]
     },
     "execution_count": 4,
     "metadata": {},
     "output_type": "execute_result"
    }
   ],
   "source": [
    "final_df.head()"
   ]
  },
  {
   "cell_type": "code",
   "execution_count": 5,
   "id": "4b0923d9",
   "metadata": {},
   "outputs": [
    {
     "data": {
      "text/plain": [
       "(30964564, 35)"
      ]
     },
     "execution_count": 5,
     "metadata": {},
     "output_type": "execute_result"
    }
   ],
   "source": [
    "final_df.shape"
   ]
  },
  {
   "cell_type": "markdown",
   "id": "2f91607b",
   "metadata": {},
   "source": [
    "# Additional insights"
   ]
  },
  {
   "cell_type": "markdown",
   "id": "b566de2c",
   "metadata": {},
   "source": [
    "### Family status crossed with loyalty flag"
   ]
  },
  {
   "cell_type": "code",
   "execution_count": 6,
   "id": "41003e85",
   "metadata": {},
   "outputs": [],
   "source": [
    "# crosstab of fam_status & loyalty_flag variables\n",
    "\n",
    "xtab_fam_loyalty = pd.crosstab(final_df['fam_status'], final_df['loyalty_flag'], dropna = False)"
   ]
  },
  {
   "cell_type": "code",
   "execution_count": 7,
   "id": "b62976bd",
   "metadata": {},
   "outputs": [
    {
     "data": {
      "text/html": [
       "<div>\n",
       "<style scoped>\n",
       "    .dataframe tbody tr th:only-of-type {\n",
       "        vertical-align: middle;\n",
       "    }\n",
       "\n",
       "    .dataframe tbody tr th {\n",
       "        vertical-align: top;\n",
       "    }\n",
       "\n",
       "    .dataframe thead th {\n",
       "        text-align: right;\n",
       "    }\n",
       "</style>\n",
       "<table border=\"1\" class=\"dataframe\">\n",
       "  <thead>\n",
       "    <tr style=\"text-align: right;\">\n",
       "      <th>loyalty_flag</th>\n",
       "      <th>Loyal customer</th>\n",
       "      <th>New customer</th>\n",
       "      <th>Regular customer</th>\n",
       "    </tr>\n",
       "    <tr>\n",
       "      <th>fam_status</th>\n",
       "      <th></th>\n",
       "      <th></th>\n",
       "      <th></th>\n",
       "    </tr>\n",
       "  </thead>\n",
       "  <tbody>\n",
       "    <tr>\n",
       "      <th>divorced/widowed</th>\n",
       "      <td>882722</td>\n",
       "      <td>403781</td>\n",
       "      <td>1358768</td>\n",
       "    </tr>\n",
       "    <tr>\n",
       "      <th>living with parents and siblings</th>\n",
       "      <td>492749</td>\n",
       "      <td>221779</td>\n",
       "      <td>766644</td>\n",
       "    </tr>\n",
       "    <tr>\n",
       "      <th>married</th>\n",
       "      <td>7202500</td>\n",
       "      <td>3380651</td>\n",
       "      <td>11160560</td>\n",
       "    </tr>\n",
       "    <tr>\n",
       "      <th>single</th>\n",
       "      <td>1706122</td>\n",
       "      <td>797484</td>\n",
       "      <td>2590804</td>\n",
       "    </tr>\n",
       "  </tbody>\n",
       "</table>\n",
       "</div>"
      ],
      "text/plain": [
       "loyalty_flag                      Loyal customer  New customer  \\\n",
       "fam_status                                                       \n",
       "divorced/widowed                          882722        403781   \n",
       "living with parents and siblings          492749        221779   \n",
       "married                                  7202500       3380651   \n",
       "single                                   1706122        797484   \n",
       "\n",
       "loyalty_flag                      Regular customer  \n",
       "fam_status                                          \n",
       "divorced/widowed                           1358768  \n",
       "living with parents and siblings            766644  \n",
       "married                                   11160560  \n",
       "single                                     2590804  "
      ]
     },
     "execution_count": 7,
     "metadata": {},
     "output_type": "execute_result"
    }
   ],
   "source": [
    "xtab_fam_loyalty"
   ]
  },
  {
   "cell_type": "code",
   "execution_count": 8,
   "id": "751218cd",
   "metadata": {},
   "outputs": [],
   "source": [
    "xtab_fam_loyalty.to_clipboard()"
   ]
  },
  {
   "cell_type": "markdown",
   "id": "a3bb87db",
   "metadata": {},
   "source": [
    "### Order frequency by dept"
   ]
  },
  {
   "cell_type": "code",
   "execution_count": 9,
   "id": "6e28539f",
   "metadata": {},
   "outputs": [
    {
     "data": {
      "image/png": "[encoded data removed]",
      "text/plain": [
       "<Figure size 432x288 with 1 Axes>"
      ]
     },
     "metadata": {
      "needs_background": "light"
     },
     "output_type": "display_data"
    }
   ],
   "source": [
    "# bar chart based on orders by department_id\n",
    "\n",
    "dept_bar = final_df['department_id'].value_counts().plot.bar(color =['#0AAD0A'], xlabel= 'Department ID', ylabel= 'Order frequency', title = 'Order frequency by department ID')\n",
    "plt.tight_layout()"
   ]
  },
  {
   "cell_type": "code",
   "execution_count": 10,
   "id": "0fbf7df9",
   "metadata": {},
   "outputs": [],
   "source": [
    "# export chart in the form of an image file\n",
    "\n",
    "dept_bar.figure.savefig(os.path.join(path, '04 Analysis','Visualizations', 'bar_dept_frequency.png'))"
   ]
  },
  {
   "cell_type": "markdown",
   "id": "0214cc49",
   "metadata": {},
   "source": [
    "### Price range comparison"
   ]
  },
  {
   "cell_type": "code",
   "execution_count": 11,
   "id": "0db764c5",
   "metadata": {},
   "outputs": [
    {
     "data": {
      "image/png": "[encoded data removed]",
      "text/plain": [
       "<Figure size 432x288 with 1 Axes>"
      ]
     },
     "metadata": {
      "needs_background": "light"
     },
     "output_type": "display_data"
    }
   ],
   "source": [
    "# bar chart based on orders by department_id\n",
    "\n",
    "price_range_bar = final_df['price_range_loc'].value_counts().plot.barh(color =['#0AAD0A'], xlabel= 'Price range', ylabel= 'No. of orders', title = 'No. of orders by price range')\n",
    "plt.tight_layout()"
   ]
  },
  {
   "cell_type": "code",
   "execution_count": 12,
   "id": "384bdddb",
   "metadata": {},
   "outputs": [],
   "source": [
    "# export chart in the form of an image file\n",
    "\n",
    "price_range_bar.figure.savefig(os.path.join(path, '04 Analysis','Visualizations', 'bar_price_range.png'))"
   ]
  },
  {
   "cell_type": "markdown",
   "id": "a96bf78d",
   "metadata": {},
   "source": [
    "### Ordering habits by loyalty"
   ]
  },
  {
   "cell_type": "code",
   "execution_count": 23,
   "id": "a2d61c7d",
   "metadata": {},
   "outputs": [],
   "source": [
    "# create crosstab of loyalty_flag & price_range_loc variables\n",
    "\n",
    "xtab_avgorder_pricerange = pd.crosstab(final_df['loyalty_flag'], final_df['price_range_loc'], dropna = False)"
   ]
  },
  {
   "cell_type": "code",
   "execution_count": 24,
   "id": "257b195c",
   "metadata": {},
   "outputs": [
    {
     "data": {
      "text/html": [
       "<div>\n",
       "<style scoped>\n",
       "    .dataframe tbody tr th:only-of-type {\n",
       "        vertical-align: middle;\n",
       "    }\n",
       "\n",
       "    .dataframe tbody tr th {\n",
       "        vertical-align: top;\n",
       "    }\n",
       "\n",
       "    .dataframe thead th {\n",
       "        text-align: right;\n",
       "    }\n",
       "</style>\n",
       "<table border=\"1\" class=\"dataframe\">\n",
       "  <thead>\n",
       "    <tr style=\"text-align: right;\">\n",
       "      <th>price_range_loc</th>\n",
       "      <th>High-range product</th>\n",
       "      <th>Low-range product</th>\n",
       "      <th>Mid-range product</th>\n",
       "    </tr>\n",
       "    <tr>\n",
       "      <th>loyalty_flag</th>\n",
       "      <th></th>\n",
       "      <th></th>\n",
       "      <th></th>\n",
       "    </tr>\n",
       "  </thead>\n",
       "  <tbody>\n",
       "    <tr>\n",
       "      <th>Loyal customer</th>\n",
       "      <td>119936</td>\n",
       "      <td>3214690</td>\n",
       "      <td>6949467</td>\n",
       "    </tr>\n",
       "    <tr>\n",
       "      <th>New customer</th>\n",
       "      <td>65927</td>\n",
       "      <td>1501288</td>\n",
       "      <td>3236480</td>\n",
       "    </tr>\n",
       "    <tr>\n",
       "      <th>Regular customer</th>\n",
       "      <td>212090</td>\n",
       "      <td>4958862</td>\n",
       "      <td>10705824</td>\n",
       "    </tr>\n",
       "  </tbody>\n",
       "</table>\n",
       "</div>"
      ],
      "text/plain": [
       "price_range_loc   High-range product  Low-range product  Mid-range product\n",
       "loyalty_flag                                                              \n",
       "Loyal customer                119936            3214690            6949467\n",
       "New customer                   65927            1501288            3236480\n",
       "Regular customer              212090            4958862           10705824"
      ]
     },
     "execution_count": 24,
     "metadata": {},
     "output_type": "execute_result"
    }
   ],
   "source": [
    "xtab_avgorder_pricerange"
   ]
  },
  {
   "cell_type": "code",
   "execution_count": 32,
   "id": "105ce850",
   "metadata": {},
   "outputs": [],
   "source": [
    "xtab_avgorder_pricerange.to_clipboard()"
   ]
  },
  {
   "cell_type": "code",
   "execution_count": 33,
   "id": "f23df077",
   "metadata": {},
   "outputs": [
    {
     "data": {
      "image/png": "[encoded data removed]",
      "text/plain": [
       "<Figure size 432x288 with 1 Axes>"
      ]
     },
     "metadata": {
      "needs_background": "light"
     },
     "output_type": "display_data"
    }
   ],
   "source": [
    "# stacked bar chart based on loyalty_flag and price_range_loc\n",
    "\n",
    "stacked_order_price = xtab_avgorder_pricerange.plot.bar(color =['#066506', '#0AAD0A', '#0ddd0d'], title = 'Comparison of products purchased by loyalty status', xlabel= 'Loyalty status', ylabel= 'No. of products', stacked = True)\n",
    "plt.xticks(rotation=0, ha='center')\n",
    "plt.tight_layout()"
   ]
  },
  {
   "cell_type": "code",
   "execution_count": 34,
   "id": "84fde47f",
   "metadata": {},
   "outputs": [],
   "source": [
    "# export chart in the form of an image file\n",
    "\n",
    "stacked_order_price.figure.savefig(os.path.join(path, '04 Analysis','Visualizations', 'stackedbar_price_loyalty.png'))"
   ]
  },
  {
   "cell_type": "code",
   "execution_count": null,
   "id": "a55f278c",
   "metadata": {},
   "outputs": [],
   "source": []
  }
 ],
 "metadata": {
  "kernelspec": {
   "display_name": "Python 3",
   "language": "python",
   "name": "python3"
  },
  "language_info": {
   "codemirror_mode": {
    "name": "ipython",
    "version": 3
   },
   "file_extension": ".py",
   "mimetype": "text/x-python",
   "name": "python",
   "nbconvert_exporter": "python",
   "pygments_lexer": "ipython3",
   "version": "3.8.8"
  }
 },
 "nbformat": 4,
 "nbformat_minor": 5
}
