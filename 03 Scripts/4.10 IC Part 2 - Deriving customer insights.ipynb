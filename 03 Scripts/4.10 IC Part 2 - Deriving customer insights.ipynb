{
 "cells": [
  {
   "cell_type": "markdown",
   "id": "eab4da12",
   "metadata": {},
   "source": [
    "# 4.10 Part 2 - Deriving customer insights"
   ]
  },
  {
   "cell_type": "markdown",
   "id": "e3ac05db",
   "metadata": {},
   "source": [
    "### This script contains the following points:\n",
    "\n",
    "#### 1. Import libraries\n",
    "#### 2. Import data\n",
    "#### 3. Create intuitive variable groups\n",
    "##### 3.1 Create age ranges\n",
    "##### 3.2 Create income brackets\n",
    "##### 3.3 Create parental status\n",
    "##### 3.4 Check data type of new variables\n",
    "##### 3.5 Confirm data type of existing variables\n",
    "#### 4. Data insights\n",
    "#### 5. Export dataframe"
   ]
  },
  {
   "cell_type": "markdown",
   "id": "31afe929",
   "metadata": {},
   "source": [
    "# Import libraries"
   ]
  },
  {
   "cell_type": "code",
   "execution_count": 1,
   "id": "3fc27992",
   "metadata": {},
   "outputs": [],
   "source": [
    "import pandas as pd\n",
    "import numpy as np\n",
    "import os"
   ]
  },
  {
   "cell_type": "markdown",
   "id": "f66c7b69",
   "metadata": {},
   "source": [
    "# Import data"
   ]
  },
  {
   "cell_type": "code",
   "execution_count": 2,
   "id": "f9f0d1fb",
   "metadata": {},
   "outputs": [],
   "source": [
    "# project folder path\n",
    "\n",
    "path = r'C:\\Users\\Odette\\Desktop\\CareerFoundry\\Immersion Courses\\Course 4\\Instacart Basket Analysis'"
   ]
  },
  {
   "cell_type": "code",
   "execution_count": 3,
   "id": "37abe5cf",
   "metadata": {},
   "outputs": [],
   "source": [
    "# import of orders_products data\n",
    "\n",
    "final_df = pd.read_pickle(os.path.join(path, '02 Data','Prepared Data', 'Instacart_final.pkl'))"
   ]
  },
  {
   "cell_type": "code",
   "execution_count": 4,
   "id": "3f01b0aa",
   "metadata": {},
   "outputs": [
    {
     "data": {
      "text/html": [
       "<div>\n",
       "<style scoped>\n",
       "    .dataframe tbody tr th:only-of-type {\n",
       "        vertical-align: middle;\n",
       "    }\n",
       "\n",
       "    .dataframe tbody tr th {\n",
       "        vertical-align: top;\n",
       "    }\n",
       "\n",
       "    .dataframe thead th {\n",
       "        text-align: right;\n",
       "    }\n",
       "</style>\n",
       "<table border=\"1\" class=\"dataframe\">\n",
       "  <thead>\n",
       "    <tr style=\"text-align: right;\">\n",
       "      <th></th>\n",
       "      <th>order_id</th>\n",
       "      <th>user_id</th>\n",
       "      <th>order_number</th>\n",
       "      <th>orders_day_of_week</th>\n",
       "      <th>order_hour_of_day</th>\n",
       "      <th>days_since_last_order</th>\n",
       "      <th>product_id</th>\n",
       "      <th>add_to_cart_order</th>\n",
       "      <th>reordered</th>\n",
       "      <th>product_name</th>\n",
       "      <th>...</th>\n",
       "      <th>gender</th>\n",
       "      <th>state</th>\n",
       "      <th>age</th>\n",
       "      <th>date_joined</th>\n",
       "      <th>n_dependants</th>\n",
       "      <th>fam_status</th>\n",
       "      <th>income</th>\n",
       "      <th>_merge</th>\n",
       "      <th>region</th>\n",
       "      <th>exclusion_flag</th>\n",
       "    </tr>\n",
       "  </thead>\n",
       "  <tbody>\n",
       "    <tr>\n",
       "      <th>0</th>\n",
       "      <td>2539329</td>\n",
       "      <td>1</td>\n",
       "      <td>1</td>\n",
       "      <td>2</td>\n",
       "      <td>8</td>\n",
       "      <td>0</td>\n",
       "      <td>196</td>\n",
       "      <td>1</td>\n",
       "      <td>False</td>\n",
       "      <td>Soda</td>\n",
       "      <td>...</td>\n",
       "      <td>Female</td>\n",
       "      <td>Alabama</td>\n",
       "      <td>31</td>\n",
       "      <td>2019-02-17</td>\n",
       "      <td>3</td>\n",
       "      <td>married</td>\n",
       "      <td>40423</td>\n",
       "      <td>both</td>\n",
       "      <td>South</td>\n",
       "      <td>Frequent Customer</td>\n",
       "    </tr>\n",
       "    <tr>\n",
       "      <th>1</th>\n",
       "      <td>2398795</td>\n",
       "      <td>1</td>\n",
       "      <td>2</td>\n",
       "      <td>3</td>\n",
       "      <td>7</td>\n",
       "      <td>15</td>\n",
       "      <td>196</td>\n",
       "      <td>1</td>\n",
       "      <td>True</td>\n",
       "      <td>Soda</td>\n",
       "      <td>...</td>\n",
       "      <td>Female</td>\n",
       "      <td>Alabama</td>\n",
       "      <td>31</td>\n",
       "      <td>2019-02-17</td>\n",
       "      <td>3</td>\n",
       "      <td>married</td>\n",
       "      <td>40423</td>\n",
       "      <td>both</td>\n",
       "      <td>South</td>\n",
       "      <td>Frequent Customer</td>\n",
       "    </tr>\n",
       "    <tr>\n",
       "      <th>2</th>\n",
       "      <td>473747</td>\n",
       "      <td>1</td>\n",
       "      <td>3</td>\n",
       "      <td>3</td>\n",
       "      <td>12</td>\n",
       "      <td>21</td>\n",
       "      <td>196</td>\n",
       "      <td>1</td>\n",
       "      <td>True</td>\n",
       "      <td>Soda</td>\n",
       "      <td>...</td>\n",
       "      <td>Female</td>\n",
       "      <td>Alabama</td>\n",
       "      <td>31</td>\n",
       "      <td>2019-02-17</td>\n",
       "      <td>3</td>\n",
       "      <td>married</td>\n",
       "      <td>40423</td>\n",
       "      <td>both</td>\n",
       "      <td>South</td>\n",
       "      <td>Frequent Customer</td>\n",
       "    </tr>\n",
       "    <tr>\n",
       "      <th>3</th>\n",
       "      <td>2254736</td>\n",
       "      <td>1</td>\n",
       "      <td>4</td>\n",
       "      <td>4</td>\n",
       "      <td>7</td>\n",
       "      <td>29</td>\n",
       "      <td>196</td>\n",
       "      <td>1</td>\n",
       "      <td>True</td>\n",
       "      <td>Soda</td>\n",
       "      <td>...</td>\n",
       "      <td>Female</td>\n",
       "      <td>Alabama</td>\n",
       "      <td>31</td>\n",
       "      <td>2019-02-17</td>\n",
       "      <td>3</td>\n",
       "      <td>married</td>\n",
       "      <td>40423</td>\n",
       "      <td>both</td>\n",
       "      <td>South</td>\n",
       "      <td>Frequent Customer</td>\n",
       "    </tr>\n",
       "    <tr>\n",
       "      <th>4</th>\n",
       "      <td>431534</td>\n",
       "      <td>1</td>\n",
       "      <td>5</td>\n",
       "      <td>4</td>\n",
       "      <td>15</td>\n",
       "      <td>28</td>\n",
       "      <td>196</td>\n",
       "      <td>1</td>\n",
       "      <td>True</td>\n",
       "      <td>Soda</td>\n",
       "      <td>...</td>\n",
       "      <td>Female</td>\n",
       "      <td>Alabama</td>\n",
       "      <td>31</td>\n",
       "      <td>2019-02-17</td>\n",
       "      <td>3</td>\n",
       "      <td>married</td>\n",
       "      <td>40423</td>\n",
       "      <td>both</td>\n",
       "      <td>South</td>\n",
       "      <td>Frequent Customer</td>\n",
       "    </tr>\n",
       "  </tbody>\n",
       "</table>\n",
       "<p>5 rows × 32 columns</p>\n",
       "</div>"
      ],
      "text/plain": [
       "  order_id user_id  order_number  orders_day_of_week  order_hour_of_day  \\\n",
       "0  2539329       1             1                   2                  8   \n",
       "1  2398795       1             2                   3                  7   \n",
       "2   473747       1             3                   3                 12   \n",
       "3  2254736       1             4                   4                  7   \n",
       "4   431534       1             5                   4                 15   \n",
       "\n",
       "   days_since_last_order product_id  add_to_cart_order  reordered  \\\n",
       "0                      0        196                  1      False   \n",
       "1                     15        196                  1       True   \n",
       "2                     21        196                  1       True   \n",
       "3                     29        196                  1       True   \n",
       "4                     28        196                  1       True   \n",
       "\n",
       "  product_name  ...  gender    state  age date_joined n_dependants fam_status  \\\n",
       "0         Soda  ...  Female  Alabama   31  2019-02-17            3    married   \n",
       "1         Soda  ...  Female  Alabama   31  2019-02-17            3    married   \n",
       "2         Soda  ...  Female  Alabama   31  2019-02-17            3    married   \n",
       "3         Soda  ...  Female  Alabama   31  2019-02-17            3    married   \n",
       "4         Soda  ...  Female  Alabama   31  2019-02-17            3    married   \n",
       "\n",
       "   income _merge  region     exclusion_flag  \n",
       "0   40423   both   South  Frequent Customer  \n",
       "1   40423   both   South  Frequent Customer  \n",
       "2   40423   both   South  Frequent Customer  \n",
       "3   40423   both   South  Frequent Customer  \n",
       "4   40423   both   South  Frequent Customer  \n",
       "\n",
       "[5 rows x 32 columns]"
      ]
     },
     "execution_count": 4,
     "metadata": {},
     "output_type": "execute_result"
    }
   ],
   "source": [
    "final_df.head()"
   ]
  },
  {
   "cell_type": "code",
   "execution_count": 5,
   "id": "35df3b82",
   "metadata": {},
   "outputs": [
    {
     "data": {
      "text/plain": [
       "(30964564, 32)"
      ]
     },
     "execution_count": 5,
     "metadata": {},
     "output_type": "execute_result"
    }
   ],
   "source": [
    "final_df.shape"
   ]
  },
  {
   "cell_type": "markdown",
   "id": "7857f504",
   "metadata": {},
   "source": [
    "# Create intuitive variable groups"
   ]
  },
  {
   "cell_type": "markdown",
   "id": "15aef120",
   "metadata": {},
   "source": [
    "### Create age ranges"
   ]
  },
  {
   "cell_type": "code",
   "execution_count": 6,
   "id": "632bf458",
   "metadata": {},
   "outputs": [
    {
     "data": {
      "text/plain": [
       "18"
      ]
     },
     "execution_count": 6,
     "metadata": {},
     "output_type": "execute_result"
    }
   ],
   "source": [
    "# find minimum age\n",
    "\n",
    "final_df['age'].min()"
   ]
  },
  {
   "cell_type": "code",
   "execution_count": 7,
   "id": "e3e56f25",
   "metadata": {},
   "outputs": [
    {
     "data": {
      "text/plain": [
       "81"
      ]
     },
     "execution_count": 7,
     "metadata": {},
     "output_type": "execute_result"
    }
   ],
   "source": [
    "# find maximum age\n",
    "\n",
    "final_df['age'].max()"
   ]
  },
  {
   "cell_type": "code",
   "execution_count": 8,
   "id": "0c4da851",
   "metadata": {},
   "outputs": [],
   "source": [
    "# create flag for age range 19 & under\n",
    "\n",
    "final_df.loc[(final_df['age'] <= 19), 'age_range'] = '<19'"
   ]
  },
  {
   "cell_type": "code",
   "execution_count": 9,
   "id": "a684a46e",
   "metadata": {},
   "outputs": [],
   "source": [
    "# create flag for age range 20-29\n",
    "\n",
    "final_df.loc[(final_df['age'] > 19) & (final_df['age'] <= 29), 'age_range'] = '20-29'"
   ]
  },
  {
   "cell_type": "code",
   "execution_count": 10,
   "id": "14d5877a",
   "metadata": {},
   "outputs": [],
   "source": [
    "# create flag for age range 30-39\n",
    "\n",
    "final_df.loc[(final_df['age'] > 29) & (final_df['age'] <= 39), 'age_range'] = '30-39'"
   ]
  },
  {
   "cell_type": "code",
   "execution_count": 11,
   "id": "fa8b0db0",
   "metadata": {},
   "outputs": [],
   "source": [
    "# create flag for age range 40-49\n",
    "\n",
    "final_df.loc[(final_df['age'] > 39) & (final_df['age'] <= 49), 'age_range'] = '40-49'"
   ]
  },
  {
   "cell_type": "code",
   "execution_count": 12,
   "id": "b3065b87",
   "metadata": {},
   "outputs": [],
   "source": [
    "# create flag for age range 50-59\n",
    "\n",
    "final_df.loc[(final_df['age'] > 49) & (final_df['age'] <= 59), 'age_range'] = '50-59'"
   ]
  },
  {
   "cell_type": "code",
   "execution_count": 13,
   "id": "e31b1ebc",
   "metadata": {},
   "outputs": [],
   "source": [
    "# create flag for age range 60-69\n",
    "\n",
    "final_df.loc[(final_df['age'] > 59) & (final_df['age'] <= 69), 'age_range'] = '60-69'"
   ]
  },
  {
   "cell_type": "code",
   "execution_count": 14,
   "id": "2734aa56",
   "metadata": {},
   "outputs": [],
   "source": [
    "# create flag for age range 70-79\n",
    "\n",
    "final_df.loc[(final_df['age'] > 69) & (final_df['age'] <= 79), 'age_range'] = '70-79'"
   ]
  },
  {
   "cell_type": "code",
   "execution_count": 15,
   "id": "dda8f7d3",
   "metadata": {},
   "outputs": [],
   "source": [
    "# create flag for age range 80+\n",
    "\n",
    "final_df.loc[(final_df['age'] >= 80), 'age_range'] = '80+'"
   ]
  },
  {
   "cell_type": "code",
   "execution_count": 16,
   "id": "5edb1d73",
   "metadata": {},
   "outputs": [
    {
     "data": {
      "text/plain": [
       "20-29    4843069\n",
       "30-39    4847507\n",
       "40-49    4883179\n",
       "50-59    4841771\n",
       "60-69    4761621\n",
       "70-79    4834286\n",
       "80+       978597\n",
       "<19       974534\n",
       "Name: age_range, dtype: int64"
      ]
     },
     "execution_count": 16,
     "metadata": {},
     "output_type": "execute_result"
    }
   ],
   "source": [
    "# check age_range flag \n",
    "\n",
    "final_df['age_range'].value_counts().sort_index()"
   ]
  },
  {
   "cell_type": "code",
   "execution_count": 17,
   "id": "5c7215b4",
   "metadata": {},
   "outputs": [
    {
     "data": {
      "text/html": [
       "<div>\n",
       "<style scoped>\n",
       "    .dataframe tbody tr th:only-of-type {\n",
       "        vertical-align: middle;\n",
       "    }\n",
       "\n",
       "    .dataframe tbody tr th {\n",
       "        vertical-align: top;\n",
       "    }\n",
       "\n",
       "    .dataframe thead th {\n",
       "        text-align: right;\n",
       "    }\n",
       "</style>\n",
       "<table border=\"1\" class=\"dataframe\">\n",
       "  <thead>\n",
       "    <tr style=\"text-align: right;\">\n",
       "      <th></th>\n",
       "      <th>age</th>\n",
       "      <th>age_range</th>\n",
       "    </tr>\n",
       "  </thead>\n",
       "  <tbody>\n",
       "    <tr>\n",
       "      <th>0</th>\n",
       "      <td>31</td>\n",
       "      <td>30-39</td>\n",
       "    </tr>\n",
       "    <tr>\n",
       "      <th>1</th>\n",
       "      <td>31</td>\n",
       "      <td>30-39</td>\n",
       "    </tr>\n",
       "    <tr>\n",
       "      <th>2</th>\n",
       "      <td>31</td>\n",
       "      <td>30-39</td>\n",
       "    </tr>\n",
       "    <tr>\n",
       "      <th>3</th>\n",
       "      <td>31</td>\n",
       "      <td>30-39</td>\n",
       "    </tr>\n",
       "    <tr>\n",
       "      <th>4</th>\n",
       "      <td>31</td>\n",
       "      <td>30-39</td>\n",
       "    </tr>\n",
       "  </tbody>\n",
       "</table>\n",
       "</div>"
      ],
      "text/plain": [
       "   age age_range\n",
       "0   31     30-39\n",
       "1   31     30-39\n",
       "2   31     30-39\n",
       "3   31     30-39\n",
       "4   31     30-39"
      ]
     },
     "execution_count": 17,
     "metadata": {},
     "output_type": "execute_result"
    }
   ],
   "source": [
    "# head results just for age & age_range\n",
    "\n",
    "final_df[['age', 'age_range']].head()"
   ]
  },
  {
   "cell_type": "markdown",
   "id": "2f3981d7",
   "metadata": {},
   "source": [
    "### Create income brackets"
   ]
  },
  {
   "cell_type": "code",
   "execution_count": 18,
   "id": "b22af7c4",
   "metadata": {},
   "outputs": [
    {
     "data": {
      "text/plain": [
       "25903"
      ]
     },
     "execution_count": 18,
     "metadata": {},
     "output_type": "execute_result"
    }
   ],
   "source": [
    "# find the minimum income amount\n",
    "\n",
    "final_df['income'].min()"
   ]
  },
  {
   "cell_type": "code",
   "execution_count": 19,
   "id": "e33a8a60",
   "metadata": {},
   "outputs": [
    {
     "data": {
      "text/plain": [
       "593901"
      ]
     },
     "execution_count": 19,
     "metadata": {},
     "output_type": "execute_result"
    }
   ],
   "source": [
    "# find the maximum income amount\n",
    "\n",
    "final_df['income'].max()"
   ]
  },
  {
   "cell_type": "code",
   "execution_count": 20,
   "id": "10fe37ab",
   "metadata": {},
   "outputs": [],
   "source": [
    "# create flag for income bracket <100000\n",
    "\n",
    "final_df.loc[(final_df['income'] <= 99999), 'income_bracket'] = '<100000'"
   ]
  },
  {
   "cell_type": "code",
   "execution_count": 21,
   "id": "289c1451",
   "metadata": {},
   "outputs": [],
   "source": [
    "# create flag for income bracket 100000-199999\n",
    "\n",
    "final_df.loc[(final_df['income'] > 99999) & (final_df['income'] <= 199999), 'income_bracket'] = '100000-199999'"
   ]
  },
  {
   "cell_type": "code",
   "execution_count": 22,
   "id": "39beb24b",
   "metadata": {},
   "outputs": [],
   "source": [
    "# create flag for income bracket 200000-299999\n",
    "\n",
    "final_df.loc[(final_df['income'] > 199999) & (final_df['income'] <= 299999), 'income_bracket'] = '200000-299999'"
   ]
  },
  {
   "cell_type": "code",
   "execution_count": 23,
   "id": "38c39626",
   "metadata": {},
   "outputs": [],
   "source": [
    "# create flag for income bracket 300000-399999\n",
    "\n",
    "final_df.loc[(final_df['income'] > 299999) & (final_df['income'] <= 399999), 'income_bracket'] = '300000-399999'"
   ]
  },
  {
   "cell_type": "code",
   "execution_count": 24,
   "id": "4e9b1340",
   "metadata": {},
   "outputs": [],
   "source": [
    "# create flag for income bracket 400000-499999\n",
    "\n",
    "final_df.loc[(final_df['income'] > 399999) & (final_df['income'] <= 499999), 'income_bracket'] = '400000-499999'"
   ]
  },
  {
   "cell_type": "code",
   "execution_count": 25,
   "id": "24a3ddef",
   "metadata": {},
   "outputs": [],
   "source": [
    "# create flag for income bracket >500000\n",
    "\n",
    "final_df.loc[(final_df['income'] >= 500000), 'income_bracket'] = '>500000'"
   ]
  },
  {
   "cell_type": "code",
   "execution_count": 26,
   "id": "5178fb47",
   "metadata": {},
   "outputs": [
    {
     "data": {
      "text/plain": [
       "100000-199999    13953260\n",
       "200000-299999      154113\n",
       "300000-399999       53033\n",
       "400000-499999       27927\n",
       "<100000          16757162\n",
       ">500000             19069\n",
       "Name: income_bracket, dtype: int64"
      ]
     },
     "execution_count": 26,
     "metadata": {},
     "output_type": "execute_result"
    }
   ],
   "source": [
    "# Check income_bracket flag \n",
    "\n",
    "final_df['income_bracket'].value_counts().sort_index()"
   ]
  },
  {
   "cell_type": "code",
   "execution_count": 27,
   "id": "62833987",
   "metadata": {},
   "outputs": [
    {
     "data": {
      "text/html": [
       "<div>\n",
       "<style scoped>\n",
       "    .dataframe tbody tr th:only-of-type {\n",
       "        vertical-align: middle;\n",
       "    }\n",
       "\n",
       "    .dataframe tbody tr th {\n",
       "        vertical-align: top;\n",
       "    }\n",
       "\n",
       "    .dataframe thead th {\n",
       "        text-align: right;\n",
       "    }\n",
       "</style>\n",
       "<table border=\"1\" class=\"dataframe\">\n",
       "  <thead>\n",
       "    <tr style=\"text-align: right;\">\n",
       "      <th></th>\n",
       "      <th>income</th>\n",
       "      <th>income_bracket</th>\n",
       "    </tr>\n",
       "  </thead>\n",
       "  <tbody>\n",
       "    <tr>\n",
       "      <th>0</th>\n",
       "      <td>40423</td>\n",
       "      <td>&lt;100000</td>\n",
       "    </tr>\n",
       "    <tr>\n",
       "      <th>1</th>\n",
       "      <td>40423</td>\n",
       "      <td>&lt;100000</td>\n",
       "    </tr>\n",
       "    <tr>\n",
       "      <th>2</th>\n",
       "      <td>40423</td>\n",
       "      <td>&lt;100000</td>\n",
       "    </tr>\n",
       "    <tr>\n",
       "      <th>3</th>\n",
       "      <td>40423</td>\n",
       "      <td>&lt;100000</td>\n",
       "    </tr>\n",
       "    <tr>\n",
       "      <th>4</th>\n",
       "      <td>40423</td>\n",
       "      <td>&lt;100000</td>\n",
       "    </tr>\n",
       "  </tbody>\n",
       "</table>\n",
       "</div>"
      ],
      "text/plain": [
       "   income income_bracket\n",
       "0   40423        <100000\n",
       "1   40423        <100000\n",
       "2   40423        <100000\n",
       "3   40423        <100000\n",
       "4   40423        <100000"
      ]
     },
     "execution_count": 27,
     "metadata": {},
     "output_type": "execute_result"
    }
   ],
   "source": [
    "# head results just for income & income_bracket\n",
    "\n",
    "final_df[['income', 'income_bracket']].head()"
   ]
  },
  {
   "cell_type": "markdown",
   "id": "0c59558d",
   "metadata": {},
   "source": [
    "### Create parental status"
   ]
  },
  {
   "cell_type": "code",
   "execution_count": 28,
   "id": "00d64472",
   "metadata": {},
   "outputs": [
    {
     "data": {
      "text/plain": [
       "0    7739681\n",
       "1    7719106\n",
       "2    7733261\n",
       "3    7772516\n",
       "Name: n_dependants, dtype: int64"
      ]
     },
     "execution_count": 28,
     "metadata": {},
     "output_type": "execute_result"
    }
   ],
   "source": [
    "# check dependant numbers\n",
    "\n",
    "final_df['n_dependants'].value_counts().sort_index()"
   ]
  },
  {
   "cell_type": "code",
   "execution_count": 29,
   "id": "6d59d253",
   "metadata": {},
   "outputs": [],
   "source": [
    "# create flag for parent (1+ children)\n",
    "\n",
    "final_df.loc[(final_df['n_dependants'] >= 1), 'parental_status'] = 'Parent'"
   ]
  },
  {
   "cell_type": "code",
   "execution_count": 30,
   "id": "0c842bf6",
   "metadata": {},
   "outputs": [],
   "source": [
    "# create flag for non-parents(0 children)\n",
    "\n",
    "final_df.loc[(final_df['n_dependants'] == 0), 'parental_status'] = 'Non-parent'"
   ]
  },
  {
   "cell_type": "code",
   "execution_count": 31,
   "id": "d25ecae7",
   "metadata": {},
   "outputs": [
    {
     "data": {
      "text/plain": [
       "Non-parent     7739681\n",
       "Parent        23224883\n",
       "Name: parental_status, dtype: int64"
      ]
     },
     "execution_count": 31,
     "metadata": {},
     "output_type": "execute_result"
    }
   ],
   "source": [
    "# check parental_status flag\n",
    "\n",
    "final_df['parental_status'].value_counts().sort_index()"
   ]
  },
  {
   "cell_type": "code",
   "execution_count": 32,
   "id": "4fc73a90",
   "metadata": {},
   "outputs": [
    {
     "data": {
      "text/html": [
       "<div>\n",
       "<style scoped>\n",
       "    .dataframe tbody tr th:only-of-type {\n",
       "        vertical-align: middle;\n",
       "    }\n",
       "\n",
       "    .dataframe tbody tr th {\n",
       "        vertical-align: top;\n",
       "    }\n",
       "\n",
       "    .dataframe thead th {\n",
       "        text-align: right;\n",
       "    }\n",
       "</style>\n",
       "<table border=\"1\" class=\"dataframe\">\n",
       "  <thead>\n",
       "    <tr style=\"text-align: right;\">\n",
       "      <th></th>\n",
       "      <th>n_dependants</th>\n",
       "      <th>parental_status</th>\n",
       "    </tr>\n",
       "  </thead>\n",
       "  <tbody>\n",
       "    <tr>\n",
       "      <th>0</th>\n",
       "      <td>3</td>\n",
       "      <td>Parent</td>\n",
       "    </tr>\n",
       "    <tr>\n",
       "      <th>1</th>\n",
       "      <td>3</td>\n",
       "      <td>Parent</td>\n",
       "    </tr>\n",
       "    <tr>\n",
       "      <th>2</th>\n",
       "      <td>3</td>\n",
       "      <td>Parent</td>\n",
       "    </tr>\n",
       "    <tr>\n",
       "      <th>3</th>\n",
       "      <td>3</td>\n",
       "      <td>Parent</td>\n",
       "    </tr>\n",
       "    <tr>\n",
       "      <th>4</th>\n",
       "      <td>3</td>\n",
       "      <td>Parent</td>\n",
       "    </tr>\n",
       "  </tbody>\n",
       "</table>\n",
       "</div>"
      ],
      "text/plain": [
       "   n_dependants parental_status\n",
       "0             3          Parent\n",
       "1             3          Parent\n",
       "2             3          Parent\n",
       "3             3          Parent\n",
       "4             3          Parent"
      ]
     },
     "execution_count": 32,
     "metadata": {},
     "output_type": "execute_result"
    }
   ],
   "source": [
    "# head results just for n_dependants & parental_status\n",
    "\n",
    "final_df[['n_dependants', 'parental_status']].head()"
   ]
  },
  {
   "cell_type": "markdown",
   "id": "d51579a5",
   "metadata": {},
   "source": [
    "### Check data type of new variables"
   ]
  },
  {
   "cell_type": "code",
   "execution_count": 33,
   "id": "2daec650",
   "metadata": {},
   "outputs": [
    {
     "data": {
      "text/plain": [
       "age_range          object\n",
       "income_bracket     object\n",
       "parental_status    object\n",
       "dtype: object"
      ]
     },
     "execution_count": 33,
     "metadata": {},
     "output_type": "execute_result"
    }
   ],
   "source": [
    "final_df[['age_range', 'income_bracket', 'parental_status']].dtypes"
   ]
  },
  {
   "cell_type": "code",
   "execution_count": 34,
   "id": "6f2a33ec",
   "metadata": {},
   "outputs": [],
   "source": [
    "# convert the age_range, income_bracket & parental_status columns to category to optimise memory\n",
    "\n",
    "final_df[['age_range', 'income_bracket', 'parental_status']] = final_df[['age_range', 'income_bracket', 'parental_status']].astype('category')"
   ]
  },
  {
   "cell_type": "code",
   "execution_count": 35,
   "id": "36da15ce",
   "metadata": {},
   "outputs": [
    {
     "data": {
      "text/plain": [
       "age_range          category\n",
       "income_bracket     category\n",
       "parental_status    category\n",
       "dtype: object"
      ]
     },
     "execution_count": 35,
     "metadata": {},
     "output_type": "execute_result"
    }
   ],
   "source": [
    "# confirm dtype change\n",
    "\n",
    "final_df[['age_range', 'income_bracket', 'parental_status']].dtypes"
   ]
  },
  {
   "cell_type": "markdown",
   "id": "6fd4d82e",
   "metadata": {},
   "source": [
    "### Confirm data type of existing variables"
   ]
  },
  {
   "cell_type": "code",
   "execution_count": 36,
   "id": "4058d13e",
   "metadata": {},
   "outputs": [
    {
     "data": {
      "text/plain": [
       "order_id                       category\n",
       "user_id                        category\n",
       "order_number                       int8\n",
       "orders_day_of_week                 int8\n",
       "order_hour_of_day                  int8\n",
       "days_since_last_order              int8\n",
       "product_id                     category\n",
       "add_to_cart_order                 int16\n",
       "reordered                          bool\n",
       "product_name                     object\n",
       "aisle_id                       category\n",
       "department_id                  category\n",
       "prices                          float16\n",
       "price_range_loc                category\n",
       "busiest_days                   category\n",
       "busiest_period_of_day          category\n",
       "max_order                          int8\n",
       "loyalty_flag                   category\n",
       "average_spend                   float16\n",
       "spending_type                    object\n",
       "median_order_days               float16\n",
       "order_frequency                category\n",
       "gender                           object\n",
       "state                            object\n",
       "age                               int64\n",
       "date_joined              datetime64[ns]\n",
       "n_dependants                      int64\n",
       "fam_status                       object\n",
       "income                            int64\n",
       "_merge                         category\n",
       "region                         category\n",
       "exclusion_flag                 category\n",
       "age_range                      category\n",
       "income_bracket                 category\n",
       "parental_status                category\n",
       "dtype: object"
      ]
     },
     "execution_count": 36,
     "metadata": {},
     "output_type": "execute_result"
    }
   ],
   "source": [
    "final_df.dtypes"
   ]
  },
  {
   "cell_type": "code",
   "execution_count": 37,
   "id": "0e834e1e",
   "metadata": {},
   "outputs": [],
   "source": [
    "# convert the gender, state, fam_status, spending type & product_name columns to category to further optimise memory\n",
    "\n",
    "final_df[['gender', 'state', 'fam_status', 'spending_type', 'product_name']] = final_df[['gender', 'state', 'fam_status', 'spending_type', 'product_name']].astype('category')"
   ]
  },
  {
   "cell_type": "code",
   "execution_count": 38,
   "id": "00202c35",
   "metadata": {},
   "outputs": [
    {
     "data": {
      "text/plain": [
       "order_id                       category\n",
       "user_id                        category\n",
       "order_number                       int8\n",
       "orders_day_of_week                 int8\n",
       "order_hour_of_day                  int8\n",
       "days_since_last_order              int8\n",
       "product_id                     category\n",
       "add_to_cart_order                 int16\n",
       "reordered                          bool\n",
       "product_name                   category\n",
       "aisle_id                       category\n",
       "department_id                  category\n",
       "prices                          float16\n",
       "price_range_loc                category\n",
       "busiest_days                   category\n",
       "busiest_period_of_day          category\n",
       "max_order                          int8\n",
       "loyalty_flag                   category\n",
       "average_spend                   float16\n",
       "spending_type                  category\n",
       "median_order_days               float16\n",
       "order_frequency                category\n",
       "gender                         category\n",
       "state                          category\n",
       "age                               int64\n",
       "date_joined              datetime64[ns]\n",
       "n_dependants                      int64\n",
       "fam_status                     category\n",
       "income                            int64\n",
       "_merge                         category\n",
       "region                         category\n",
       "exclusion_flag                 category\n",
       "age_range                      category\n",
       "income_bracket                 category\n",
       "parental_status                category\n",
       "dtype: object"
      ]
     },
     "execution_count": 38,
     "metadata": {},
     "output_type": "execute_result"
    }
   ],
   "source": [
    "# confirm dtype changes\n",
    "\n",
    "final_df.dtypes"
   ]
  },
  {
   "cell_type": "markdown",
   "id": "b2111d09",
   "metadata": {},
   "source": [
    "# Data insights"
   ]
  },
  {
   "cell_type": "code",
   "execution_count": 39,
   "id": "1f3e62fc",
   "metadata": {},
   "outputs": [],
   "source": [
    "# crosstab of age_range & income_bracket variables\n",
    "\n",
    "xtab_age_income = pd.crosstab(final_df['age_range'], final_df['income_bracket'], dropna = False)"
   ]
  },
  {
   "cell_type": "code",
   "execution_count": 40,
   "id": "4efa2a8c",
   "metadata": {},
   "outputs": [
    {
     "data": {
      "text/html": [
       "<div>\n",
       "<style scoped>\n",
       "    .dataframe tbody tr th:only-of-type {\n",
       "        vertical-align: middle;\n",
       "    }\n",
       "\n",
       "    .dataframe tbody tr th {\n",
       "        vertical-align: top;\n",
       "    }\n",
       "\n",
       "    .dataframe thead th {\n",
       "        text-align: right;\n",
       "    }\n",
       "</style>\n",
       "<table border=\"1\" class=\"dataframe\">\n",
       "  <thead>\n",
       "    <tr style=\"text-align: right;\">\n",
       "      <th>income_bracket</th>\n",
       "      <th>100000-199999</th>\n",
       "      <th>200000-299999</th>\n",
       "      <th>300000-399999</th>\n",
       "      <th>400000-499999</th>\n",
       "      <th>&lt;100000</th>\n",
       "      <th>&gt;500000</th>\n",
       "    </tr>\n",
       "    <tr>\n",
       "      <th>age_range</th>\n",
       "      <th></th>\n",
       "      <th></th>\n",
       "      <th></th>\n",
       "      <th></th>\n",
       "      <th></th>\n",
       "      <th></th>\n",
       "    </tr>\n",
       "  </thead>\n",
       "  <tbody>\n",
       "    <tr>\n",
       "      <th>20-29</th>\n",
       "      <td>136078</td>\n",
       "      <td>6727</td>\n",
       "      <td>10447</td>\n",
       "      <td>0</td>\n",
       "      <td>4689817</td>\n",
       "      <td>0</td>\n",
       "    </tr>\n",
       "    <tr>\n",
       "      <th>30-39</th>\n",
       "      <td>141512</td>\n",
       "      <td>9179</td>\n",
       "      <td>9325</td>\n",
       "      <td>0</td>\n",
       "      <td>4687491</td>\n",
       "      <td>0</td>\n",
       "    </tr>\n",
       "    <tr>\n",
       "      <th>40-49</th>\n",
       "      <td>3041066</td>\n",
       "      <td>40300</td>\n",
       "      <td>6454</td>\n",
       "      <td>9179</td>\n",
       "      <td>1780300</td>\n",
       "      <td>5880</td>\n",
       "    </tr>\n",
       "    <tr>\n",
       "      <th>50-59</th>\n",
       "      <td>3320244</td>\n",
       "      <td>25040</td>\n",
       "      <td>10541</td>\n",
       "      <td>4112</td>\n",
       "      <td>1478202</td>\n",
       "      <td>3632</td>\n",
       "    </tr>\n",
       "    <tr>\n",
       "      <th>60-69</th>\n",
       "      <td>3281440</td>\n",
       "      <td>31669</td>\n",
       "      <td>8762</td>\n",
       "      <td>7821</td>\n",
       "      <td>1429298</td>\n",
       "      <td>2631</td>\n",
       "    </tr>\n",
       "    <tr>\n",
       "      <th>70-79</th>\n",
       "      <td>3349359</td>\n",
       "      <td>31563</td>\n",
       "      <td>4904</td>\n",
       "      <td>5628</td>\n",
       "      <td>1437862</td>\n",
       "      <td>4970</td>\n",
       "    </tr>\n",
       "    <tr>\n",
       "      <th>80+</th>\n",
       "      <td>655191</td>\n",
       "      <td>8056</td>\n",
       "      <td>581</td>\n",
       "      <td>1187</td>\n",
       "      <td>311626</td>\n",
       "      <td>1956</td>\n",
       "    </tr>\n",
       "    <tr>\n",
       "      <th>&lt;19</th>\n",
       "      <td>28370</td>\n",
       "      <td>1579</td>\n",
       "      <td>2019</td>\n",
       "      <td>0</td>\n",
       "      <td>942566</td>\n",
       "      <td>0</td>\n",
       "    </tr>\n",
       "  </tbody>\n",
       "</table>\n",
       "</div>"
      ],
      "text/plain": [
       "income_bracket  100000-199999  200000-299999  300000-399999  400000-499999  \\\n",
       "age_range                                                                    \n",
       "20-29                  136078           6727          10447              0   \n",
       "30-39                  141512           9179           9325              0   \n",
       "40-49                 3041066          40300           6454           9179   \n",
       "50-59                 3320244          25040          10541           4112   \n",
       "60-69                 3281440          31669           8762           7821   \n",
       "70-79                 3349359          31563           4904           5628   \n",
       "80+                    655191           8056            581           1187   \n",
       "<19                     28370           1579           2019              0   \n",
       "\n",
       "income_bracket  <100000  >500000  \n",
       "age_range                         \n",
       "20-29           4689817        0  \n",
       "30-39           4687491        0  \n",
       "40-49           1780300     5880  \n",
       "50-59           1478202     3632  \n",
       "60-69           1429298     2631  \n",
       "70-79           1437862     4970  \n",
       "80+              311626     1956  \n",
       "<19              942566        0  "
      ]
     },
     "execution_count": 40,
     "metadata": {},
     "output_type": "execute_result"
    }
   ],
   "source": [
    "xtab_age_income"
   ]
  },
  {
   "cell_type": "code",
   "execution_count": 41,
   "id": "0242f0bc",
   "metadata": {},
   "outputs": [],
   "source": [
    "# crosstab of age_range & parental_status variables\n",
    "\n",
    "xtab_age_parent = pd.crosstab(final_df['age_range'], final_df['parental_status'], dropna = False)"
   ]
  },
  {
   "cell_type": "code",
   "execution_count": 42,
   "id": "45046d0e",
   "metadata": {},
   "outputs": [
    {
     "data": {
      "text/html": [
       "<div>\n",
       "<style scoped>\n",
       "    .dataframe tbody tr th:only-of-type {\n",
       "        vertical-align: middle;\n",
       "    }\n",
       "\n",
       "    .dataframe tbody tr th {\n",
       "        vertical-align: top;\n",
       "    }\n",
       "\n",
       "    .dataframe thead th {\n",
       "        text-align: right;\n",
       "    }\n",
       "</style>\n",
       "<table border=\"1\" class=\"dataframe\">\n",
       "  <thead>\n",
       "    <tr style=\"text-align: right;\">\n",
       "      <th>parental_status</th>\n",
       "      <th>Non-parent</th>\n",
       "      <th>Parent</th>\n",
       "    </tr>\n",
       "    <tr>\n",
       "      <th>age_range</th>\n",
       "      <th></th>\n",
       "      <th></th>\n",
       "    </tr>\n",
       "  </thead>\n",
       "  <tbody>\n",
       "    <tr>\n",
       "      <th>20-29</th>\n",
       "      <td>1222782</td>\n",
       "      <td>3620287</td>\n",
       "    </tr>\n",
       "    <tr>\n",
       "      <th>30-39</th>\n",
       "      <td>1212957</td>\n",
       "      <td>3634550</td>\n",
       "    </tr>\n",
       "    <tr>\n",
       "      <th>40-49</th>\n",
       "      <td>1213734</td>\n",
       "      <td>3669445</td>\n",
       "    </tr>\n",
       "    <tr>\n",
       "      <th>50-59</th>\n",
       "      <td>1220101</td>\n",
       "      <td>3621670</td>\n",
       "    </tr>\n",
       "    <tr>\n",
       "      <th>60-69</th>\n",
       "      <td>1204466</td>\n",
       "      <td>3557155</td>\n",
       "    </tr>\n",
       "    <tr>\n",
       "      <th>70-79</th>\n",
       "      <td>1184761</td>\n",
       "      <td>3649525</td>\n",
       "    </tr>\n",
       "    <tr>\n",
       "      <th>80+</th>\n",
       "      <td>256044</td>\n",
       "      <td>722553</td>\n",
       "    </tr>\n",
       "    <tr>\n",
       "      <th>&lt;19</th>\n",
       "      <td>224836</td>\n",
       "      <td>749698</td>\n",
       "    </tr>\n",
       "  </tbody>\n",
       "</table>\n",
       "</div>"
      ],
      "text/plain": [
       "parental_status  Non-parent   Parent\n",
       "age_range                           \n",
       "20-29               1222782  3620287\n",
       "30-39               1212957  3634550\n",
       "40-49               1213734  3669445\n",
       "50-59               1220101  3621670\n",
       "60-69               1204466  3557155\n",
       "70-79               1184761  3649525\n",
       "80+                  256044   722553\n",
       "<19                  224836   749698"
      ]
     },
     "execution_count": 42,
     "metadata": {},
     "output_type": "execute_result"
    }
   ],
   "source": [
    "xtab_age_parent"
   ]
  },
  {
   "cell_type": "code",
   "execution_count": 43,
   "id": "0a850098",
   "metadata": {},
   "outputs": [],
   "source": [
    "# crosstab of age_range & order_hour_of_day variables\n",
    "\n",
    "xtab_age_loyalty = pd.crosstab(final_df['age_range'], final_df['loyalty_flag'], dropna = False)"
   ]
  },
  {
   "cell_type": "code",
   "execution_count": 44,
   "id": "1a84b75c",
   "metadata": {},
   "outputs": [
    {
     "data": {
      "text/html": [
       "<div>\n",
       "<style scoped>\n",
       "    .dataframe tbody tr th:only-of-type {\n",
       "        vertical-align: middle;\n",
       "    }\n",
       "\n",
       "    .dataframe tbody tr th {\n",
       "        vertical-align: top;\n",
       "    }\n",
       "\n",
       "    .dataframe thead th {\n",
       "        text-align: right;\n",
       "    }\n",
       "</style>\n",
       "<table border=\"1\" class=\"dataframe\">\n",
       "  <thead>\n",
       "    <tr style=\"text-align: right;\">\n",
       "      <th>loyalty_flag</th>\n",
       "      <th>Loyal customer</th>\n",
       "      <th>New customer</th>\n",
       "      <th>Regular customer</th>\n",
       "    </tr>\n",
       "    <tr>\n",
       "      <th>age_range</th>\n",
       "      <th></th>\n",
       "      <th></th>\n",
       "      <th></th>\n",
       "    </tr>\n",
       "  </thead>\n",
       "  <tbody>\n",
       "    <tr>\n",
       "      <th>20-29</th>\n",
       "      <td>1596190</td>\n",
       "      <td>750118</td>\n",
       "      <td>2496761</td>\n",
       "    </tr>\n",
       "    <tr>\n",
       "      <th>30-39</th>\n",
       "      <td>1606129</td>\n",
       "      <td>739301</td>\n",
       "      <td>2502077</td>\n",
       "    </tr>\n",
       "    <tr>\n",
       "      <th>40-49</th>\n",
       "      <td>1632365</td>\n",
       "      <td>752701</td>\n",
       "      <td>2498113</td>\n",
       "    </tr>\n",
       "    <tr>\n",
       "      <th>50-59</th>\n",
       "      <td>1617569</td>\n",
       "      <td>761285</td>\n",
       "      <td>2462917</td>\n",
       "    </tr>\n",
       "    <tr>\n",
       "      <th>60-69</th>\n",
       "      <td>1586126</td>\n",
       "      <td>748124</td>\n",
       "      <td>2427371</td>\n",
       "    </tr>\n",
       "    <tr>\n",
       "      <th>70-79</th>\n",
       "      <td>1593284</td>\n",
       "      <td>754119</td>\n",
       "      <td>2486883</td>\n",
       "    </tr>\n",
       "    <tr>\n",
       "      <th>80+</th>\n",
       "      <td>335363</td>\n",
       "      <td>147732</td>\n",
       "      <td>495502</td>\n",
       "    </tr>\n",
       "    <tr>\n",
       "      <th>&lt;19</th>\n",
       "      <td>317067</td>\n",
       "      <td>150315</td>\n",
       "      <td>507152</td>\n",
       "    </tr>\n",
       "  </tbody>\n",
       "</table>\n",
       "</div>"
      ],
      "text/plain": [
       "loyalty_flag  Loyal customer  New customer  Regular customer\n",
       "age_range                                                   \n",
       "20-29                1596190        750118           2496761\n",
       "30-39                1606129        739301           2502077\n",
       "40-49                1632365        752701           2498113\n",
       "50-59                1617569        761285           2462917\n",
       "60-69                1586126        748124           2427371\n",
       "70-79                1593284        754119           2486883\n",
       "80+                   335363        147732            495502\n",
       "<19                   317067        150315            507152"
      ]
     },
     "execution_count": 44,
     "metadata": {},
     "output_type": "execute_result"
    }
   ],
   "source": [
    "xtab_age_loyalty"
   ]
  },
  {
   "cell_type": "code",
   "execution_count": 45,
   "id": "d3b9f0d7",
   "metadata": {},
   "outputs": [],
   "source": [
    "# crosstab of parental_status & order_frequency variables\n",
    "\n",
    "xtab_parent_freq = pd.crosstab(final_df['parental_status'], final_df['order_frequency'], dropna = False)"
   ]
  },
  {
   "cell_type": "code",
   "execution_count": 46,
   "id": "b61a0063",
   "metadata": {},
   "outputs": [
    {
     "data": {
      "text/html": [
       "<div>\n",
       "<style scoped>\n",
       "    .dataframe tbody tr th:only-of-type {\n",
       "        vertical-align: middle;\n",
       "    }\n",
       "\n",
       "    .dataframe tbody tr th {\n",
       "        vertical-align: top;\n",
       "    }\n",
       "\n",
       "    .dataframe thead th {\n",
       "        text-align: right;\n",
       "    }\n",
       "</style>\n",
       "<table border=\"1\" class=\"dataframe\">\n",
       "  <thead>\n",
       "    <tr style=\"text-align: right;\">\n",
       "      <th>order_frequency</th>\n",
       "      <th>Frequent customer</th>\n",
       "      <th>Non-frequent customer</th>\n",
       "      <th>Regular customer</th>\n",
       "    </tr>\n",
       "    <tr>\n",
       "      <th>parental_status</th>\n",
       "      <th></th>\n",
       "      <th></th>\n",
       "      <th></th>\n",
       "    </tr>\n",
       "  </thead>\n",
       "  <tbody>\n",
       "    <tr>\n",
       "      <th>Non-parent</th>\n",
       "      <td>5544082</td>\n",
       "      <td>540110</td>\n",
       "      <td>1655489</td>\n",
       "    </tr>\n",
       "    <tr>\n",
       "      <th>Parent</th>\n",
       "      <td>16664812</td>\n",
       "      <td>1647307</td>\n",
       "      <td>4912764</td>\n",
       "    </tr>\n",
       "  </tbody>\n",
       "</table>\n",
       "</div>"
      ],
      "text/plain": [
       "order_frequency  Frequent customer  Non-frequent customer  Regular customer\n",
       "parental_status                                                            \n",
       "Non-parent                 5544082                 540110           1655489\n",
       "Parent                    16664812                1647307           4912764"
      ]
     },
     "execution_count": 46,
     "metadata": {},
     "output_type": "execute_result"
    }
   ],
   "source": [
    "xtab_parent_freq"
   ]
  },
  {
   "cell_type": "code",
   "execution_count": 47,
   "id": "1587dc84",
   "metadata": {},
   "outputs": [],
   "source": [
    "# crosstab of age_range & busiest_period_of_day variables\n",
    "\n",
    "xtab_age_dayperiod = pd.crosstab(final_df['age_range'], final_df['busiest_period_of_day'], dropna = False)"
   ]
  },
  {
   "cell_type": "code",
   "execution_count": 48,
   "id": "2d74811f",
   "metadata": {},
   "outputs": [
    {
     "data": {
      "text/html": [
       "<div>\n",
       "<style scoped>\n",
       "    .dataframe tbody tr th:only-of-type {\n",
       "        vertical-align: middle;\n",
       "    }\n",
       "\n",
       "    .dataframe tbody tr th {\n",
       "        vertical-align: top;\n",
       "    }\n",
       "\n",
       "    .dataframe thead th {\n",
       "        text-align: right;\n",
       "    }\n",
       "</style>\n",
       "<table border=\"1\" class=\"dataframe\">\n",
       "  <thead>\n",
       "    <tr style=\"text-align: right;\">\n",
       "      <th>busiest_period_of_day</th>\n",
       "      <th>Average orders</th>\n",
       "      <th>Fewest orders</th>\n",
       "      <th>Most orders</th>\n",
       "    </tr>\n",
       "    <tr>\n",
       "      <th>age_range</th>\n",
       "      <th></th>\n",
       "      <th></th>\n",
       "      <th></th>\n",
       "    </tr>\n",
       "  </thead>\n",
       "  <tbody>\n",
       "    <tr>\n",
       "      <th>20-29</th>\n",
       "      <td>1231079</td>\n",
       "      <td>133672</td>\n",
       "      <td>3478318</td>\n",
       "    </tr>\n",
       "    <tr>\n",
       "      <th>30-39</th>\n",
       "      <td>1241078</td>\n",
       "      <td>133677</td>\n",
       "      <td>3472752</td>\n",
       "    </tr>\n",
       "    <tr>\n",
       "      <th>40-49</th>\n",
       "      <td>1252743</td>\n",
       "      <td>131909</td>\n",
       "      <td>3498527</td>\n",
       "    </tr>\n",
       "    <tr>\n",
       "      <th>50-59</th>\n",
       "      <td>1252219</td>\n",
       "      <td>130444</td>\n",
       "      <td>3459108</td>\n",
       "    </tr>\n",
       "    <tr>\n",
       "      <th>60-69</th>\n",
       "      <td>1218905</td>\n",
       "      <td>128579</td>\n",
       "      <td>3414137</td>\n",
       "    </tr>\n",
       "    <tr>\n",
       "      <th>70-79</th>\n",
       "      <td>1246474</td>\n",
       "      <td>131203</td>\n",
       "      <td>3456609</td>\n",
       "    </tr>\n",
       "    <tr>\n",
       "      <th>80+</th>\n",
       "      <td>261489</td>\n",
       "      <td>28198</td>\n",
       "      <td>688910</td>\n",
       "    </tr>\n",
       "    <tr>\n",
       "      <th>&lt;19</th>\n",
       "      <td>249032</td>\n",
       "      <td>30662</td>\n",
       "      <td>694840</td>\n",
       "    </tr>\n",
       "  </tbody>\n",
       "</table>\n",
       "</div>"
      ],
      "text/plain": [
       "busiest_period_of_day  Average orders  Fewest orders  Most orders\n",
       "age_range                                                        \n",
       "20-29                         1231079         133672      3478318\n",
       "30-39                         1241078         133677      3472752\n",
       "40-49                         1252743         131909      3498527\n",
       "50-59                         1252219         130444      3459108\n",
       "60-69                         1218905         128579      3414137\n",
       "70-79                         1246474         131203      3456609\n",
       "80+                            261489          28198       688910\n",
       "<19                            249032          30662       694840"
      ]
     },
     "execution_count": 48,
     "metadata": {},
     "output_type": "execute_result"
    }
   ],
   "source": [
    "xtab_age_dayperiod"
   ]
  },
  {
   "cell_type": "code",
   "execution_count": 49,
   "id": "b418a58e",
   "metadata": {},
   "outputs": [],
   "source": [
    "# crosstab of age_range & spending_type variables\n",
    "\n",
    "xtab_age_spender = pd.crosstab(final_df['age_range'], final_df['spending_type'], dropna = False)"
   ]
  },
  {
   "cell_type": "code",
   "execution_count": 50,
   "id": "81637835",
   "metadata": {},
   "outputs": [
    {
     "data": {
      "text/html": [
       "<div>\n",
       "<style scoped>\n",
       "    .dataframe tbody tr th:only-of-type {\n",
       "        vertical-align: middle;\n",
       "    }\n",
       "\n",
       "    .dataframe tbody tr th {\n",
       "        vertical-align: top;\n",
       "    }\n",
       "\n",
       "    .dataframe thead th {\n",
       "        text-align: right;\n",
       "    }\n",
       "</style>\n",
       "<table border=\"1\" class=\"dataframe\">\n",
       "  <thead>\n",
       "    <tr style=\"text-align: right;\">\n",
       "      <th>spending_type</th>\n",
       "      <th>High spender</th>\n",
       "      <th>Low spender</th>\n",
       "    </tr>\n",
       "    <tr>\n",
       "      <th>age_range</th>\n",
       "      <th></th>\n",
       "      <th></th>\n",
       "    </tr>\n",
       "  </thead>\n",
       "  <tbody>\n",
       "    <tr>\n",
       "      <th>20-29</th>\n",
       "      <td>93053</td>\n",
       "      <td>4750016</td>\n",
       "    </tr>\n",
       "    <tr>\n",
       "      <th>30-39</th>\n",
       "      <td>91963</td>\n",
       "      <td>4755544</td>\n",
       "    </tr>\n",
       "    <tr>\n",
       "      <th>40-49</th>\n",
       "      <td>108340</td>\n",
       "      <td>4774839</td>\n",
       "    </tr>\n",
       "    <tr>\n",
       "      <th>50-59</th>\n",
       "      <td>87053</td>\n",
       "      <td>4754718</td>\n",
       "    </tr>\n",
       "    <tr>\n",
       "      <th>60-69</th>\n",
       "      <td>97375</td>\n",
       "      <td>4664246</td>\n",
       "    </tr>\n",
       "    <tr>\n",
       "      <th>70-79</th>\n",
       "      <td>89012</td>\n",
       "      <td>4745274</td>\n",
       "    </tr>\n",
       "    <tr>\n",
       "      <th>80+</th>\n",
       "      <td>20727</td>\n",
       "      <td>957870</td>\n",
       "    </tr>\n",
       "    <tr>\n",
       "      <th>&lt;19</th>\n",
       "      <td>15848</td>\n",
       "      <td>958686</td>\n",
       "    </tr>\n",
       "  </tbody>\n",
       "</table>\n",
       "</div>"
      ],
      "text/plain": [
       "spending_type  High spender  Low spender\n",
       "age_range                               \n",
       "20-29                 93053      4750016\n",
       "30-39                 91963      4755544\n",
       "40-49                108340      4774839\n",
       "50-59                 87053      4754718\n",
       "60-69                 97375      4664246\n",
       "70-79                 89012      4745274\n",
       "80+                   20727       957870\n",
       "<19                   15848       958686"
      ]
     },
     "execution_count": 50,
     "metadata": {},
     "output_type": "execute_result"
    }
   ],
   "source": [
    "xtab_age_spender"
   ]
  },
  {
   "cell_type": "code",
   "execution_count": 51,
   "id": "f4b8bc94",
   "metadata": {},
   "outputs": [],
   "source": [
    "# crosstab of department_id & income_bracket variables\n",
    "\n",
    "xtab_deptid_income = pd.crosstab(final_df['department_id'], final_df['income_bracket'], dropna = False)"
   ]
  },
  {
   "cell_type": "code",
   "execution_count": 52,
   "id": "93b27857",
   "metadata": {},
   "outputs": [
    {
     "data": {
      "text/html": [
       "<div>\n",
       "<style scoped>\n",
       "    .dataframe tbody tr th:only-of-type {\n",
       "        vertical-align: middle;\n",
       "    }\n",
       "\n",
       "    .dataframe tbody tr th {\n",
       "        vertical-align: top;\n",
       "    }\n",
       "\n",
       "    .dataframe thead th {\n",
       "        text-align: right;\n",
       "    }\n",
       "</style>\n",
       "<table border=\"1\" class=\"dataframe\">\n",
       "  <thead>\n",
       "    <tr style=\"text-align: right;\">\n",
       "      <th>income_bracket</th>\n",
       "      <th>100000-199999</th>\n",
       "      <th>200000-299999</th>\n",
       "      <th>300000-399999</th>\n",
       "      <th>400000-499999</th>\n",
       "      <th>&lt;100000</th>\n",
       "      <th>&gt;500000</th>\n",
       "    </tr>\n",
       "    <tr>\n",
       "      <th>department_id</th>\n",
       "      <th></th>\n",
       "      <th></th>\n",
       "      <th></th>\n",
       "      <th></th>\n",
       "      <th></th>\n",
       "      <th></th>\n",
       "    </tr>\n",
       "  </thead>\n",
       "  <tbody>\n",
       "    <tr>\n",
       "      <th>1</th>\n",
       "      <td>968648</td>\n",
       "      <td>12114</td>\n",
       "      <td>4490</td>\n",
       "      <td>2038</td>\n",
       "      <td>1133231</td>\n",
       "      <td>1210</td>\n",
       "    </tr>\n",
       "    <tr>\n",
       "      <th>2</th>\n",
       "      <td>15279</td>\n",
       "      <td>295</td>\n",
       "      <td>112</td>\n",
       "      <td>48</td>\n",
       "      <td>18661</td>\n",
       "      <td>16</td>\n",
       "    </tr>\n",
       "    <tr>\n",
       "      <th>3</th>\n",
       "      <td>515107</td>\n",
       "      <td>7727</td>\n",
       "      <td>2812</td>\n",
       "      <td>1266</td>\n",
       "      <td>593117</td>\n",
       "      <td>799</td>\n",
       "    </tr>\n",
       "    <tr>\n",
       "      <th>4</th>\n",
       "      <td>4187609</td>\n",
       "      <td>29052</td>\n",
       "      <td>10791</td>\n",
       "      <td>5307</td>\n",
       "      <td>4842271</td>\n",
       "      <td>4243</td>\n",
       "    </tr>\n",
       "    <tr>\n",
       "      <th>5</th>\n",
       "      <td>63015</td>\n",
       "      <td>3312</td>\n",
       "      <td>1361</td>\n",
       "      <td>846</td>\n",
       "      <td>75485</td>\n",
       "      <td>608</td>\n",
       "    </tr>\n",
       "    <tr>\n",
       "      <th>6</th>\n",
       "      <td>117954</td>\n",
       "      <td>1159</td>\n",
       "      <td>442</td>\n",
       "      <td>249</td>\n",
       "      <td>136000</td>\n",
       "      <td>187</td>\n",
       "    </tr>\n",
       "    <tr>\n",
       "      <th>7</th>\n",
       "      <td>1101801</td>\n",
       "      <td>15370</td>\n",
       "      <td>4842</td>\n",
       "      <td>2726</td>\n",
       "      <td>1445439</td>\n",
       "      <td>1723</td>\n",
       "    </tr>\n",
       "    <tr>\n",
       "      <th>8</th>\n",
       "      <td>43206</td>\n",
       "      <td>1136</td>\n",
       "      <td>316</td>\n",
       "      <td>279</td>\n",
       "      <td>47971</td>\n",
       "      <td>152</td>\n",
       "    </tr>\n",
       "    <tr>\n",
       "      <th>9</th>\n",
       "      <td>385848</td>\n",
       "      <td>4059</td>\n",
       "      <td>1460</td>\n",
       "      <td>749</td>\n",
       "      <td>429405</td>\n",
       "      <td>615</td>\n",
       "    </tr>\n",
       "    <tr>\n",
       "      <th>10</th>\n",
       "      <td>14191</td>\n",
       "      <td>22</td>\n",
       "      <td>1</td>\n",
       "      <td>1</td>\n",
       "      <td>19233</td>\n",
       "      <td>3</td>\n",
       "    </tr>\n",
       "    <tr>\n",
       "      <th>11</th>\n",
       "      <td>189375</td>\n",
       "      <td>2457</td>\n",
       "      <td>870</td>\n",
       "      <td>372</td>\n",
       "      <td>230894</td>\n",
       "      <td>338</td>\n",
       "    </tr>\n",
       "    <tr>\n",
       "      <th>12</th>\n",
       "      <td>329393</td>\n",
       "      <td>3791</td>\n",
       "      <td>1277</td>\n",
       "      <td>707</td>\n",
       "      <td>339229</td>\n",
       "      <td>384</td>\n",
       "    </tr>\n",
       "    <tr>\n",
       "      <th>13</th>\n",
       "      <td>824088</td>\n",
       "      <td>9561</td>\n",
       "      <td>3431</td>\n",
       "      <td>1796</td>\n",
       "      <td>942741</td>\n",
       "      <td>1088</td>\n",
       "    </tr>\n",
       "    <tr>\n",
       "      <th>14</th>\n",
       "      <td>291067</td>\n",
       "      <td>4156</td>\n",
       "      <td>1299</td>\n",
       "      <td>657</td>\n",
       "      <td>373254</td>\n",
       "      <td>417</td>\n",
       "    </tr>\n",
       "    <tr>\n",
       "      <th>15</th>\n",
       "      <td>476164</td>\n",
       "      <td>5233</td>\n",
       "      <td>1998</td>\n",
       "      <td>1089</td>\n",
       "      <td>526821</td>\n",
       "      <td>769</td>\n",
       "    </tr>\n",
       "    <tr>\n",
       "      <th>16</th>\n",
       "      <td>2361904</td>\n",
       "      <td>27658</td>\n",
       "      <td>8682</td>\n",
       "      <td>4570</td>\n",
       "      <td>2770971</td>\n",
       "      <td>3397</td>\n",
       "    </tr>\n",
       "    <tr>\n",
       "      <th>17</th>\n",
       "      <td>308433</td>\n",
       "      <td>6810</td>\n",
       "      <td>2355</td>\n",
       "      <td>1430</td>\n",
       "      <td>379898</td>\n",
       "      <td>931</td>\n",
       "    </tr>\n",
       "    <tr>\n",
       "      <th>18</th>\n",
       "      <td>194600</td>\n",
       "      <td>1407</td>\n",
       "      <td>300</td>\n",
       "      <td>120</td>\n",
       "      <td>213688</td>\n",
       "      <td>277</td>\n",
       "    </tr>\n",
       "    <tr>\n",
       "      <th>19</th>\n",
       "      <td>1081649</td>\n",
       "      <td>14080</td>\n",
       "      <td>4583</td>\n",
       "      <td>2786</td>\n",
       "      <td>1661805</td>\n",
       "      <td>1503</td>\n",
       "    </tr>\n",
       "    <tr>\n",
       "      <th>20</th>\n",
       "      <td>454791</td>\n",
       "      <td>4503</td>\n",
       "      <td>1553</td>\n",
       "      <td>852</td>\n",
       "      <td>541735</td>\n",
       "      <td>400</td>\n",
       "    </tr>\n",
       "    <tr>\n",
       "      <th>21</th>\n",
       "      <td>29138</td>\n",
       "      <td>211</td>\n",
       "      <td>58</td>\n",
       "      <td>39</td>\n",
       "      <td>35313</td>\n",
       "      <td>9</td>\n",
       "    </tr>\n",
       "  </tbody>\n",
       "</table>\n",
       "</div>"
      ],
      "text/plain": [
       "income_bracket  100000-199999  200000-299999  300000-399999  400000-499999  \\\n",
       "department_id                                                                \n",
       "1                      968648          12114           4490           2038   \n",
       "2                       15279            295            112             48   \n",
       "3                      515107           7727           2812           1266   \n",
       "4                     4187609          29052          10791           5307   \n",
       "5                       63015           3312           1361            846   \n",
       "6                      117954           1159            442            249   \n",
       "7                     1101801          15370           4842           2726   \n",
       "8                       43206           1136            316            279   \n",
       "9                      385848           4059           1460            749   \n",
       "10                      14191             22              1              1   \n",
       "11                     189375           2457            870            372   \n",
       "12                     329393           3791           1277            707   \n",
       "13                     824088           9561           3431           1796   \n",
       "14                     291067           4156           1299            657   \n",
       "15                     476164           5233           1998           1089   \n",
       "16                    2361904          27658           8682           4570   \n",
       "17                     308433           6810           2355           1430   \n",
       "18                     194600           1407            300            120   \n",
       "19                    1081649          14080           4583           2786   \n",
       "20                     454791           4503           1553            852   \n",
       "21                      29138            211             58             39   \n",
       "\n",
       "income_bracket  <100000  >500000  \n",
       "department_id                     \n",
       "1               1133231     1210  \n",
       "2                 18661       16  \n",
       "3                593117      799  \n",
       "4               4842271     4243  \n",
       "5                 75485      608  \n",
       "6                136000      187  \n",
       "7               1445439     1723  \n",
       "8                 47971      152  \n",
       "9                429405      615  \n",
       "10                19233        3  \n",
       "11               230894      338  \n",
       "12               339229      384  \n",
       "13               942741     1088  \n",
       "14               373254      417  \n",
       "15               526821      769  \n",
       "16              2770971     3397  \n",
       "17               379898      931  \n",
       "18               213688      277  \n",
       "19              1661805     1503  \n",
       "20               541735      400  \n",
       "21                35313        9  "
      ]
     },
     "execution_count": 52,
     "metadata": {},
     "output_type": "execute_result"
    }
   ],
   "source": [
    "xtab_deptid_income"
   ]
  },
  {
   "cell_type": "markdown",
   "id": "00d7bb42",
   "metadata": {},
   "source": [
    "# Export dataframe"
   ]
  },
  {
   "cell_type": "code",
   "execution_count": 53,
   "id": "72dbc218",
   "metadata": {},
   "outputs": [],
   "source": [
    "# export final_df to pkl \n",
    " \n",
    "final_df.to_pickle(os.path.join(path, '02 Data','Prepared Data', 'Instacart_final2.pkl'))"
   ]
  }
 ],
 "metadata": {
  "kernelspec": {
   "display_name": "Python 3",
   "language": "python",
   "name": "python3"
  },
  "language_info": {
   "codemirror_mode": {
    "name": "ipython",
    "version": 3
   },
   "file_extension": ".py",
   "mimetype": "text/x-python",
   "name": "python",
   "nbconvert_exporter": "python",
   "pygments_lexer": "ipython3",
   "version": "3.8.8"
  }
 },
 "nbformat": 4,
 "nbformat_minor": 5
}
